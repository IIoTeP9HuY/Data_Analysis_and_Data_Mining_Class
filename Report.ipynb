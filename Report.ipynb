{
 "cells": [
  {
   "cell_type": "markdown",
   "metadata": {},
   "source": [
    "## Course: Data Analysis and Data Mining\n",
    "### Authors: Anvar Kurmukov, Andrey Kashin, Irina Osipova"
   ]
  },
  {
   "cell_type": "markdown",
   "metadata": {},
   "source": [
    "Dataset source: https://www.backblaze.com/hard-drive-test-data.html"
   ]
  },
  {
   "cell_type": "markdown",
   "metadata": {},
   "source": [
    "#### Do some basic imports "
   ]
  },
  {
   "cell_type": "code",
   "execution_count": 1,
   "metadata": {
    "collapsed": true
   },
   "outputs": [],
   "source": [
    "import warnings\n",
    "warnings.filterwarnings('ignore')"
   ]
  },
  {
   "cell_type": "code",
   "execution_count": 2,
   "metadata": {
    "collapsed": false,
    "scrolled": true
   },
   "outputs": [
    {
     "name": "stdout",
     "output_type": "stream",
     "text": [
      "Populating the interactive namespace from numpy and matplotlib\n"
     ]
    }
   ],
   "source": [
    "%pylab inline\n",
    "import pandas as pd\n",
    "import seaborn as sns"
   ]
  },
  {
   "cell_type": "markdown",
   "metadata": {},
   "source": [
    "#### Customize plotting"
   ]
  },
  {
   "cell_type": "code",
   "execution_count": 3,
   "metadata": {
    "collapsed": true,
    "scrolled": true
   },
   "outputs": [],
   "source": [
    "matplotlib.style.use('ggplot')"
   ]
  },
  {
   "cell_type": "markdown",
   "metadata": {},
   "source": [
    "#### Set random seed"
   ]
  },
  {
   "cell_type": "code",
   "execution_count": 4,
   "metadata": {
    "collapsed": true,
    "scrolled": true
   },
   "outputs": [],
   "source": [
    "numpy.random.seed(1)"
   ]
  },
  {
   "cell_type": "markdown",
   "metadata": {},
   "source": [
    "---\n",
    "\n",
    "## Homework 1: Overview of dataset"
   ]
  },
  {
   "cell_type": "markdown",
   "metadata": {},
   "source": [
    "### Exploring sample of the data:"
   ]
  },
  {
   "cell_type": "code",
   "execution_count": 5,
   "metadata": {
    "collapsed": false,
    "scrolled": true
   },
   "outputs": [
    {
     "name": "stdout",
     "output_type": "stream",
     "text": [
      "Size of sample: 41212\n",
      "Number of features: 95\n"
     ]
    },
    {
     "data": {
      "text/html": [
       "<div>\n",
       "<table border=\"1\" class=\"dataframe\">\n",
       "  <thead>\n",
       "    <tr style=\"text-align: right;\">\n",
       "      <th></th>\n",
       "      <th>date</th>\n",
       "      <th>serial_number</th>\n",
       "      <th>model</th>\n",
       "      <th>capacity_bytes</th>\n",
       "      <th>failure</th>\n",
       "      <th>smart_1_normalized</th>\n",
       "      <th>smart_1_raw</th>\n",
       "      <th>smart_2_normalized</th>\n",
       "      <th>smart_2_raw</th>\n",
       "      <th>smart_3_normalized</th>\n",
       "      <th>...</th>\n",
       "      <th>smart_250_normalized</th>\n",
       "      <th>smart_250_raw</th>\n",
       "      <th>smart_251_normalized</th>\n",
       "      <th>smart_251_raw</th>\n",
       "      <th>smart_252_normalized</th>\n",
       "      <th>smart_252_raw</th>\n",
       "      <th>smart_254_normalized</th>\n",
       "      <th>smart_254_raw</th>\n",
       "      <th>smart_255_normalized</th>\n",
       "      <th>smart_255_raw</th>\n",
       "    </tr>\n",
       "  </thead>\n",
       "  <tbody>\n",
       "    <tr>\n",
       "      <th>0</th>\n",
       "      <td>2015-01-01</td>\n",
       "      <td>MJ0351YNG9Z0XA</td>\n",
       "      <td>Hitachi HDS5C3030ALA630</td>\n",
       "      <td>3000592982016</td>\n",
       "      <td>0</td>\n",
       "      <td>100</td>\n",
       "      <td>0</td>\n",
       "      <td>135</td>\n",
       "      <td>108</td>\n",
       "      <td>143</td>\n",
       "      <td>...</td>\n",
       "      <td>NaN</td>\n",
       "      <td>NaN</td>\n",
       "      <td>NaN</td>\n",
       "      <td>NaN</td>\n",
       "      <td>NaN</td>\n",
       "      <td>NaN</td>\n",
       "      <td>NaN</td>\n",
       "      <td>NaN</td>\n",
       "      <td>NaN</td>\n",
       "      <td>NaN</td>\n",
       "    </tr>\n",
       "    <tr>\n",
       "      <th>1</th>\n",
       "      <td>2015-01-01</td>\n",
       "      <td>MJ0351YNG9WJSA</td>\n",
       "      <td>Hitachi HDS5C3030ALA630</td>\n",
       "      <td>3000592982016</td>\n",
       "      <td>0</td>\n",
       "      <td>100</td>\n",
       "      <td>0</td>\n",
       "      <td>136</td>\n",
       "      <td>104</td>\n",
       "      <td>127</td>\n",
       "      <td>...</td>\n",
       "      <td>NaN</td>\n",
       "      <td>NaN</td>\n",
       "      <td>NaN</td>\n",
       "      <td>NaN</td>\n",
       "      <td>NaN</td>\n",
       "      <td>NaN</td>\n",
       "      <td>NaN</td>\n",
       "      <td>NaN</td>\n",
       "      <td>NaN</td>\n",
       "      <td>NaN</td>\n",
       "    </tr>\n",
       "    <tr>\n",
       "      <th>2</th>\n",
       "      <td>2015-01-01</td>\n",
       "      <td>MJ0351YNG9Z7LA</td>\n",
       "      <td>Hitachi HDS5C3030ALA630</td>\n",
       "      <td>3000592982016</td>\n",
       "      <td>0</td>\n",
       "      <td>100</td>\n",
       "      <td>0</td>\n",
       "      <td>136</td>\n",
       "      <td>104</td>\n",
       "      <td>124</td>\n",
       "      <td>...</td>\n",
       "      <td>NaN</td>\n",
       "      <td>NaN</td>\n",
       "      <td>NaN</td>\n",
       "      <td>NaN</td>\n",
       "      <td>NaN</td>\n",
       "      <td>NaN</td>\n",
       "      <td>NaN</td>\n",
       "      <td>NaN</td>\n",
       "      <td>NaN</td>\n",
       "      <td>NaN</td>\n",
       "    </tr>\n",
       "    <tr>\n",
       "      <th>3</th>\n",
       "      <td>2015-01-01</td>\n",
       "      <td>MJ0351YNGABYAA</td>\n",
       "      <td>Hitachi HDS5C3030ALA630</td>\n",
       "      <td>3000592982016</td>\n",
       "      <td>0</td>\n",
       "      <td>100</td>\n",
       "      <td>0</td>\n",
       "      <td>136</td>\n",
       "      <td>104</td>\n",
       "      <td>137</td>\n",
       "      <td>...</td>\n",
       "      <td>NaN</td>\n",
       "      <td>NaN</td>\n",
       "      <td>NaN</td>\n",
       "      <td>NaN</td>\n",
       "      <td>NaN</td>\n",
       "      <td>NaN</td>\n",
       "      <td>NaN</td>\n",
       "      <td>NaN</td>\n",
       "      <td>NaN</td>\n",
       "      <td>NaN</td>\n",
       "    </tr>\n",
       "    <tr>\n",
       "      <th>4</th>\n",
       "      <td>2015-01-01</td>\n",
       "      <td>PL1321LAG34XWH</td>\n",
       "      <td>Hitachi HDS5C4040ALE630</td>\n",
       "      <td>4000787030016</td>\n",
       "      <td>0</td>\n",
       "      <td>100</td>\n",
       "      <td>0</td>\n",
       "      <td>134</td>\n",
       "      <td>101</td>\n",
       "      <td>131</td>\n",
       "      <td>...</td>\n",
       "      <td>NaN</td>\n",
       "      <td>NaN</td>\n",
       "      <td>NaN</td>\n",
       "      <td>NaN</td>\n",
       "      <td>NaN</td>\n",
       "      <td>NaN</td>\n",
       "      <td>NaN</td>\n",
       "      <td>NaN</td>\n",
       "      <td>NaN</td>\n",
       "      <td>NaN</td>\n",
       "    </tr>\n",
       "  </tbody>\n",
       "</table>\n",
       "<p>5 rows × 95 columns</p>\n",
       "</div>"
      ],
      "text/plain": [
       "         date   serial_number                    model  capacity_bytes  \\\n",
       "0  2015-01-01  MJ0351YNG9Z0XA  Hitachi HDS5C3030ALA630   3000592982016   \n",
       "1  2015-01-01  MJ0351YNG9WJSA  Hitachi HDS5C3030ALA630   3000592982016   \n",
       "2  2015-01-01  MJ0351YNG9Z7LA  Hitachi HDS5C3030ALA630   3000592982016   \n",
       "3  2015-01-01  MJ0351YNGABYAA  Hitachi HDS5C3030ALA630   3000592982016   \n",
       "4  2015-01-01  PL1321LAG34XWH  Hitachi HDS5C4040ALE630   4000787030016   \n",
       "\n",
       "   failure  smart_1_normalized  smart_1_raw  smart_2_normalized  smart_2_raw  \\\n",
       "0        0                 100            0                 135          108   \n",
       "1        0                 100            0                 136          104   \n",
       "2        0                 100            0                 136          104   \n",
       "3        0                 100            0                 136          104   \n",
       "4        0                 100            0                 134          101   \n",
       "\n",
       "   smart_3_normalized      ...        smart_250_normalized  smart_250_raw  \\\n",
       "0                 143      ...                         NaN            NaN   \n",
       "1                 127      ...                         NaN            NaN   \n",
       "2                 124      ...                         NaN            NaN   \n",
       "3                 137      ...                         NaN            NaN   \n",
       "4                 131      ...                         NaN            NaN   \n",
       "\n",
       "   smart_251_normalized  smart_251_raw  smart_252_normalized  smart_252_raw  \\\n",
       "0                   NaN            NaN                   NaN            NaN   \n",
       "1                   NaN            NaN                   NaN            NaN   \n",
       "2                   NaN            NaN                   NaN            NaN   \n",
       "3                   NaN            NaN                   NaN            NaN   \n",
       "4                   NaN            NaN                   NaN            NaN   \n",
       "\n",
       "   smart_254_normalized  smart_254_raw  smart_255_normalized  smart_255_raw  \n",
       "0                   NaN            NaN                   NaN            NaN  \n",
       "1                   NaN            NaN                   NaN            NaN  \n",
       "2                   NaN            NaN                   NaN            NaN  \n",
       "3                   NaN            NaN                   NaN            NaN  \n",
       "4                   NaN            NaN                   NaN            NaN  \n",
       "\n",
       "[5 rows x 95 columns]"
      ]
     },
     "execution_count": 5,
     "metadata": {},
     "output_type": "execute_result"
    }
   ],
   "source": [
    "dataset = pd.read_csv(\"data/2015-01-01.csv\")\n",
    "\n",
    "print(\"Size of sample: {}\".format(len(dataset)))\n",
    "print(\"Number of features: {}\".format(len(dataset.columns)))\n",
    "\n",
    "dataset.head()"
   ]
  },
  {
   "cell_type": "markdown",
   "metadata": {},
   "source": [
    "### Simple statistics for numeric features of sample:"
   ]
  },
  {
   "cell_type": "code",
   "execution_count": 6,
   "metadata": {
    "collapsed": false,
    "scrolled": true
   },
   "outputs": [
    {
     "data": {
      "text/html": [
       "<div>\n",
       "<table border=\"1\" class=\"dataframe\">\n",
       "  <thead>\n",
       "    <tr style=\"text-align: right;\">\n",
       "      <th></th>\n",
       "      <th>capacity_bytes</th>\n",
       "      <th>failure</th>\n",
       "      <th>smart_1_normalized</th>\n",
       "      <th>smart_1_raw</th>\n",
       "      <th>smart_2_normalized</th>\n",
       "      <th>smart_2_raw</th>\n",
       "      <th>smart_3_normalized</th>\n",
       "      <th>smart_3_raw</th>\n",
       "      <th>smart_4_normalized</th>\n",
       "      <th>smart_4_raw</th>\n",
       "      <th>...</th>\n",
       "      <th>smart_250_normalized</th>\n",
       "      <th>smart_250_raw</th>\n",
       "      <th>smart_251_normalized</th>\n",
       "      <th>smart_251_raw</th>\n",
       "      <th>smart_252_normalized</th>\n",
       "      <th>smart_252_raw</th>\n",
       "      <th>smart_254_normalized</th>\n",
       "      <th>smart_254_raw</th>\n",
       "      <th>smart_255_normalized</th>\n",
       "      <th>smart_255_raw</th>\n",
       "    </tr>\n",
       "  </thead>\n",
       "  <tbody>\n",
       "    <tr>\n",
       "      <th>count</th>\n",
       "      <td>4.121200e+04</td>\n",
       "      <td>41212.000000</td>\n",
       "      <td>41212.000000</td>\n",
       "      <td>4.121200e+04</td>\n",
       "      <td>23227.000000</td>\n",
       "      <td>23227.000000</td>\n",
       "      <td>41212.000000</td>\n",
       "      <td>41212.000000</td>\n",
       "      <td>41212.000000</td>\n",
       "      <td>41212.000000</td>\n",
       "      <td>...</td>\n",
       "      <td>89</td>\n",
       "      <td>89.000000</td>\n",
       "      <td>89</td>\n",
       "      <td>8.900000e+01</td>\n",
       "      <td>89</td>\n",
       "      <td>89.00000</td>\n",
       "      <td>200.000000</td>\n",
       "      <td>200</td>\n",
       "      <td>0</td>\n",
       "      <td>0</td>\n",
       "    </tr>\n",
       "    <tr>\n",
       "      <th>mean</th>\n",
       "      <td>3.369229e+12</td>\n",
       "      <td>0.000024</td>\n",
       "      <td>110.790886</td>\n",
       "      <td>4.728882e+07</td>\n",
       "      <td>126.286391</td>\n",
       "      <td>74.627546</td>\n",
       "      <td>109.719378</td>\n",
       "      <td>451.512084</td>\n",
       "      <td>99.996093</td>\n",
       "      <td>20.964137</td>\n",
       "      <td>...</td>\n",
       "      <td>1</td>\n",
       "      <td>42364427.528090</td>\n",
       "      <td>1</td>\n",
       "      <td>8.668938e+07</td>\n",
       "      <td>1</td>\n",
       "      <td>38825999.11236</td>\n",
       "      <td>112.500000</td>\n",
       "      <td>0</td>\n",
       "      <td>NaN</td>\n",
       "      <td>NaN</td>\n",
       "    </tr>\n",
       "    <tr>\n",
       "      <th>std</th>\n",
       "      <td>9.771285e+11</td>\n",
       "      <td>0.004926</td>\n",
       "      <td>21.902900</td>\n",
       "      <td>7.547699e+07</td>\n",
       "      <td>19.158710</td>\n",
       "      <td>45.420129</td>\n",
       "      <td>21.162439</td>\n",
       "      <td>1104.537090</td>\n",
       "      <td>0.256074</td>\n",
       "      <td>266.393531</td>\n",
       "      <td>...</td>\n",
       "      <td>0</td>\n",
       "      <td>20016767.954468</td>\n",
       "      <td>0</td>\n",
       "      <td>4.087138e+07</td>\n",
       "      <td>0</td>\n",
       "      <td>18349638.81479</td>\n",
       "      <td>33.154882</td>\n",
       "      <td>0</td>\n",
       "      <td>NaN</td>\n",
       "      <td>NaN</td>\n",
       "    </tr>\n",
       "    <tr>\n",
       "      <th>min</th>\n",
       "      <td>8.002636e+10</td>\n",
       "      <td>0.000000</td>\n",
       "      <td>40.000000</td>\n",
       "      <td>0.000000e+00</td>\n",
       "      <td>100.000000</td>\n",
       "      <td>0.000000</td>\n",
       "      <td>71.000000</td>\n",
       "      <td>0.000000</td>\n",
       "      <td>73.000000</td>\n",
       "      <td>1.000000</td>\n",
       "      <td>...</td>\n",
       "      <td>1</td>\n",
       "      <td>17340.000000</td>\n",
       "      <td>1</td>\n",
       "      <td>3.466600e+04</td>\n",
       "      <td>1</td>\n",
       "      <td>15671.00000</td>\n",
       "      <td>100.000000</td>\n",
       "      <td>0</td>\n",
       "      <td>NaN</td>\n",
       "      <td>NaN</td>\n",
       "    </tr>\n",
       "    <tr>\n",
       "      <th>25%</th>\n",
       "      <td>3.000593e+12</td>\n",
       "      <td>0.000000</td>\n",
       "      <td>100.000000</td>\n",
       "      <td>0.000000e+00</td>\n",
       "      <td>100.000000</td>\n",
       "      <td>0.000000</td>\n",
       "      <td>95.000000</td>\n",
       "      <td>0.000000</td>\n",
       "      <td>100.000000</td>\n",
       "      <td>5.000000</td>\n",
       "      <td>...</td>\n",
       "      <td>1</td>\n",
       "      <td>29497370.000000</td>\n",
       "      <td>1</td>\n",
       "      <td>6.067892e+07</td>\n",
       "      <td>1</td>\n",
       "      <td>26928768.00000</td>\n",
       "      <td>100.000000</td>\n",
       "      <td>0</td>\n",
       "      <td>NaN</td>\n",
       "      <td>NaN</td>\n",
       "    </tr>\n",
       "    <tr>\n",
       "      <th>50%</th>\n",
       "      <td>4.000787e+12</td>\n",
       "      <td>0.000000</td>\n",
       "      <td>100.000000</td>\n",
       "      <td>0.000000e+00</td>\n",
       "      <td>134.000000</td>\n",
       "      <td>100.000000</td>\n",
       "      <td>100.000000</td>\n",
       "      <td>0.000000</td>\n",
       "      <td>100.000000</td>\n",
       "      <td>12.000000</td>\n",
       "      <td>...</td>\n",
       "      <td>1</td>\n",
       "      <td>51957480.000000</td>\n",
       "      <td>1</td>\n",
       "      <td>1.084168e+08</td>\n",
       "      <td>1</td>\n",
       "      <td>48341602.00000</td>\n",
       "      <td>100.000000</td>\n",
       "      <td>0</td>\n",
       "      <td>NaN</td>\n",
       "      <td>NaN</td>\n",
       "    </tr>\n",
       "    <tr>\n",
       "      <th>75%</th>\n",
       "      <td>4.000787e+12</td>\n",
       "      <td>0.000000</td>\n",
       "      <td>117.000000</td>\n",
       "      <td>8.593824e+07</td>\n",
       "      <td>134.000000</td>\n",
       "      <td>104.000000</td>\n",
       "      <td>123.000000</td>\n",
       "      <td>561.000000</td>\n",
       "      <td>100.000000</td>\n",
       "      <td>20.000000</td>\n",
       "      <td>...</td>\n",
       "      <td>1</td>\n",
       "      <td>57483934.000000</td>\n",
       "      <td>1</td>\n",
       "      <td>1.167961e+08</td>\n",
       "      <td>1</td>\n",
       "      <td>52418581.00000</td>\n",
       "      <td>100.000000</td>\n",
       "      <td>0</td>\n",
       "      <td>NaN</td>\n",
       "      <td>NaN</td>\n",
       "    </tr>\n",
       "    <tr>\n",
       "      <th>max</th>\n",
       "      <td>6.001175e+12</td>\n",
       "      <td>1.000000</td>\n",
       "      <td>200.000000</td>\n",
       "      <td>2.031635e+09</td>\n",
       "      <td>252.000000</td>\n",
       "      <td>196.000000</td>\n",
       "      <td>253.000000</td>\n",
       "      <td>9590.000000</td>\n",
       "      <td>100.000000</td>\n",
       "      <td>27837.000000</td>\n",
       "      <td>...</td>\n",
       "      <td>1</td>\n",
       "      <td>63566597.000000</td>\n",
       "      <td>1</td>\n",
       "      <td>1.276065e+08</td>\n",
       "      <td>1</td>\n",
       "      <td>58373641.00000</td>\n",
       "      <td>200.000000</td>\n",
       "      <td>0</td>\n",
       "      <td>NaN</td>\n",
       "      <td>NaN</td>\n",
       "    </tr>\n",
       "  </tbody>\n",
       "</table>\n",
       "<p>8 rows × 92 columns</p>\n",
       "</div>"
      ],
      "text/plain": [
       "       capacity_bytes       failure  smart_1_normalized   smart_1_raw  \\\n",
       "count    4.121200e+04  41212.000000        41212.000000  4.121200e+04   \n",
       "mean     3.369229e+12      0.000024          110.790886  4.728882e+07   \n",
       "std      9.771285e+11      0.004926           21.902900  7.547699e+07   \n",
       "min      8.002636e+10      0.000000           40.000000  0.000000e+00   \n",
       "25%      3.000593e+12      0.000000          100.000000  0.000000e+00   \n",
       "50%      4.000787e+12      0.000000          100.000000  0.000000e+00   \n",
       "75%      4.000787e+12      0.000000          117.000000  8.593824e+07   \n",
       "max      6.001175e+12      1.000000          200.000000  2.031635e+09   \n",
       "\n",
       "       smart_2_normalized   smart_2_raw  smart_3_normalized   smart_3_raw  \\\n",
       "count        23227.000000  23227.000000        41212.000000  41212.000000   \n",
       "mean           126.286391     74.627546          109.719378    451.512084   \n",
       "std             19.158710     45.420129           21.162439   1104.537090   \n",
       "min            100.000000      0.000000           71.000000      0.000000   \n",
       "25%            100.000000      0.000000           95.000000      0.000000   \n",
       "50%            134.000000    100.000000          100.000000      0.000000   \n",
       "75%            134.000000    104.000000          123.000000    561.000000   \n",
       "max            252.000000    196.000000          253.000000   9590.000000   \n",
       "\n",
       "       smart_4_normalized   smart_4_raw      ...        smart_250_normalized  \\\n",
       "count        41212.000000  41212.000000      ...                          89   \n",
       "mean            99.996093     20.964137      ...                           1   \n",
       "std              0.256074    266.393531      ...                           0   \n",
       "min             73.000000      1.000000      ...                           1   \n",
       "25%            100.000000      5.000000      ...                           1   \n",
       "50%            100.000000     12.000000      ...                           1   \n",
       "75%            100.000000     20.000000      ...                           1   \n",
       "max            100.000000  27837.000000      ...                           1   \n",
       "\n",
       "         smart_250_raw  smart_251_normalized  smart_251_raw  \\\n",
       "count        89.000000                    89   8.900000e+01   \n",
       "mean   42364427.528090                     1   8.668938e+07   \n",
       "std    20016767.954468                     0   4.087138e+07   \n",
       "min       17340.000000                     1   3.466600e+04   \n",
       "25%    29497370.000000                     1   6.067892e+07   \n",
       "50%    51957480.000000                     1   1.084168e+08   \n",
       "75%    57483934.000000                     1   1.167961e+08   \n",
       "max    63566597.000000                     1   1.276065e+08   \n",
       "\n",
       "       smart_252_normalized   smart_252_raw  smart_254_normalized  \\\n",
       "count                    89        89.00000            200.000000   \n",
       "mean                      1  38825999.11236            112.500000   \n",
       "std                       0  18349638.81479             33.154882   \n",
       "min                       1     15671.00000            100.000000   \n",
       "25%                       1  26928768.00000            100.000000   \n",
       "50%                       1  48341602.00000            100.000000   \n",
       "75%                       1  52418581.00000            100.000000   \n",
       "max                       1  58373641.00000            200.000000   \n",
       "\n",
       "       smart_254_raw  smart_255_normalized  smart_255_raw  \n",
       "count            200                     0              0  \n",
       "mean               0                   NaN            NaN  \n",
       "std                0                   NaN            NaN  \n",
       "min                0                   NaN            NaN  \n",
       "25%                0                   NaN            NaN  \n",
       "50%                0                   NaN            NaN  \n",
       "75%                0                   NaN            NaN  \n",
       "max                0                   NaN            NaN  \n",
       "\n",
       "[8 rows x 92 columns]"
      ]
     },
     "execution_count": 6,
     "metadata": {},
     "output_type": "execute_result"
    }
   ],
   "source": [
    "dataset.describe()"
   ]
  },
  {
   "cell_type": "markdown",
   "metadata": {},
   "source": [
    "#### Motivation to choose this dataset:\n",
    "- Real-world example of important non-deterministic process\n",
    "- Broad field for application of classic data analysis methods: clustering, time-series analysis, classification\n",
    "- Possible practical applications. E.g predict disk failures and avoid data loss"
   ]
  },
  {
   "cell_type": "markdown",
   "metadata": {
    "collapsed": true
   },
   "source": [
    "---\n",
    "## Homework 2: Bootstrap"
   ]
  },
  {
   "cell_type": "code",
   "execution_count": 7,
   "metadata": {
    "collapsed": false,
    "scrolled": true
   },
   "outputs": [
    {
     "data": {
      "text/html": [
       "<div>\n",
       "<table border=\"1\" class=\"dataframe\">\n",
       "  <thead>\n",
       "    <tr style=\"text-align: right;\">\n",
       "      <th></th>\n",
       "      <th>model</th>\n",
       "      <th>capacity_bytes</th>\n",
       "    </tr>\n",
       "  </thead>\n",
       "  <tbody>\n",
       "    <tr>\n",
       "      <th>0</th>\n",
       "      <td>Hitachi HDS5C3030ALA630</td>\n",
       "      <td>3000592982016</td>\n",
       "    </tr>\n",
       "    <tr>\n",
       "      <th>1</th>\n",
       "      <td>Hitachi HDS5C3030ALA630</td>\n",
       "      <td>3000592982016</td>\n",
       "    </tr>\n",
       "    <tr>\n",
       "      <th>2</th>\n",
       "      <td>Hitachi HDS5C3030ALA630</td>\n",
       "      <td>3000592982016</td>\n",
       "    </tr>\n",
       "    <tr>\n",
       "      <th>3</th>\n",
       "      <td>Hitachi HDS5C3030ALA630</td>\n",
       "      <td>3000592982016</td>\n",
       "    </tr>\n",
       "    <tr>\n",
       "      <th>4</th>\n",
       "      <td>Hitachi HDS5C4040ALE630</td>\n",
       "      <td>4000787030016</td>\n",
       "    </tr>\n",
       "  </tbody>\n",
       "</table>\n",
       "</div>"
      ],
      "text/plain": [
       "                     model  capacity_bytes\n",
       "0  Hitachi HDS5C3030ALA630   3000592982016\n",
       "1  Hitachi HDS5C3030ALA630   3000592982016\n",
       "2  Hitachi HDS5C3030ALA630   3000592982016\n",
       "3  Hitachi HDS5C3030ALA630   3000592982016\n",
       "4  Hitachi HDS5C4040ALE630   4000787030016"
      ]
     },
     "execution_count": 7,
     "metadata": {},
     "output_type": "execute_result"
    }
   ],
   "source": [
    "columns_working_set = [\n",
    "    \"model\", \"capacity_bytes\",\n",
    "]\n",
    "\n",
    "data = dataset[columns_working_set].copy()\n",
    "data.head()"
   ]
  },
  {
   "cell_type": "markdown",
   "metadata": {},
   "source": [
    "### Convert bytes gigabytes"
   ]
  },
  {
   "cell_type": "code",
   "execution_count": 8,
   "metadata": {
    "collapsed": false,
    "scrolled": true
   },
   "outputs": [],
   "source": [
    "data['capacity_gb'] = data['capacity_bytes'] // 2**30"
   ]
  },
  {
   "cell_type": "markdown",
   "metadata": {},
   "source": [
    "### Compute median, mean and mode of capacity"
   ]
  },
  {
   "cell_type": "code",
   "execution_count": 9,
   "metadata": {
    "collapsed": false,
    "scrolled": true
   },
   "outputs": [
    {
     "name": "stdout",
     "output_type": "stream",
     "text": [
      "Median capacity: 3726.0\n",
      "Mean capacity:   3137.6939241\n",
      "Mode capacity:   3726\n"
     ]
    }
   ],
   "source": [
    "median_capacity = data['capacity_gb'].median()\n",
    "mean_capacity = data['capacity_gb'].mean()\n",
    "mode_capacity = data['capacity_gb'].mode()[0]\n",
    "\n",
    "print('Median capacity:', median_capacity)\n",
    "print('Mean capacity:  ', mean_capacity)\n",
    "print('Mode capacity:  ', mode_capacity)"
   ]
  },
  {
   "cell_type": "markdown",
   "metadata": {},
   "source": [
    "### Plot capacity histogram"
   ]
  },
  {
   "cell_type": "code",
   "execution_count": 10,
   "metadata": {
    "collapsed": false,
    "scrolled": true
   },
   "outputs": [
    {
     "data": {
      "image/png": "[encoded data removed]",
      "text/plain": [
       "<matplotlib.figure.Figure at 0x114619e80>"
      ]
     },
     "metadata": {},
     "output_type": "display_data"
    }
   ],
   "source": [
    "axes = data[\"capacity_gb\"].hist()"
   ]
  },
  {
   "cell_type": "markdown",
   "metadata": {},
   "source": [
    "### Plot boxplot of capacity"
   ]
  },
  {
   "cell_type": "code",
   "execution_count": 11,
   "metadata": {
    "collapsed": false,
    "scrolled": true
   },
   "outputs": [
    {
     "data": {
      "image/png": "[encoded data removed]",
      "text/plain": [
       "<matplotlib.figure.Figure at 0x1150541d0>"
      ]
     },
     "metadata": {},
     "output_type": "display_data"
    }
   ],
   "source": [
    "axes = data.boxplot(column=\"capacity_gb\", return_type=\"axes\")"
   ]
  },
  {
   "cell_type": "markdown",
   "metadata": {},
   "source": [
    "Медиана и мода признака capacity совпадают, так как из `41212` наблюдений `25000`, т.е. более половины, имеют одно и то же значение (чуть более `3,73` гб). Среднее значение меньше медианы и моды (`3,14` гб). На гистограмме признака capacity хорошо видно, что распределение объемов жестких дисков в данном наборе данных достаточно далеко от нормального (и скорее похоже на смесь нормальных) в результате чего наблюдается такая большая разница между средним значением и медианой."
   ]
  },
  {
   "cell_type": "markdown",
   "metadata": {},
   "source": [
    "### Теперь построим доверительные интервалы для среднего значения воспользовавшись:\n",
    "- статистическим методом\n",
    "- техникой опорного бутстрэпа\n",
    "- техникой безопорного бутстрэпа"
   ]
  },
  {
   "cell_type": "code",
   "execution_count": 12,
   "metadata": {
    "collapsed": false,
    "scrolled": true
   },
   "outputs": [
    {
     "name": "stdout",
     "output_type": "stream",
     "text": [
      "1.95996398454\n"
     ]
    }
   ],
   "source": [
    "import scipy.stats\n",
    "confidence = 0.95\n",
    "z_confidence = scipy.stats.norm.ppf((1 + confidence) / 2)\n",
    "print(z_confidence)"
   ]
  },
  {
   "cell_type": "markdown",
   "metadata": {},
   "source": [
    "### Statistical method"
   ]
  },
  {
   "cell_type": "code",
   "execution_count": 13,
   "metadata": {
    "collapsed": false,
    "scrolled": true
   },
   "outputs": [
    {
     "name": "stdout",
     "output_type": "stream",
     "text": [
      "Statistical method confidence interval: (3128.9070132049078, 3146.4808349946456)\n"
     ]
    }
   ],
   "source": [
    "mean = data[\"capacity_gb\"].mean()\n",
    "std = data[\"capacity_gb\"].std()\n",
    "N = sqrt(len(data[\"capacity_gb\"]))\n",
    "\n",
    "delta = z_confidence * std / N\n",
    "stat_interval = (mean - delta, mean + delta)\n",
    "\n",
    "print(\"Statistical method confidence interval:\", stat_interval)"
   ]
  },
  {
   "cell_type": "markdown",
   "metadata": {},
   "source": [
    "### Plot mean values histogram for 5000 subsamples of size 2000"
   ]
  },
  {
   "cell_type": "code",
   "execution_count": 14,
   "metadata": {
    "collapsed": false,
    "scrolled": true
   },
   "outputs": [
    {
     "data": {
      "image/png": "[encoded data removed]",
      "text/plain": [
       "<matplotlib.figure.Figure at 0x114951828>"
      ]
     },
     "metadata": {},
     "output_type": "display_data"
    }
   ],
   "source": [
    "sample_count = 5000\n",
    "sample_size = 2000\n",
    "\n",
    "capacities = data[\"capacity_gb\"].values\n",
    "\n",
    "means = np.array([\n",
    "    np.random.choice(capacities, sample_size).mean() for i in range(sample_count)\n",
    "])\n",
    "\n",
    "axes = sns.distplot(means)"
   ]
  },
  {
   "cell_type": "markdown",
   "metadata": {},
   "source": [
    "### Pivotal boostrap"
   ]
  },
  {
   "cell_type": "code",
   "execution_count": 15,
   "metadata": {
    "collapsed": false,
    "scrolled": true
   },
   "outputs": [
    {
     "name": "stdout",
     "output_type": "stream",
     "text": [
      "Pivotal bootstrap method confidence interval: (3137.2049317373453, 3138.3268046626549)\n"
     ]
    }
   ],
   "source": [
    "mean = means.mean()\n",
    "std = means.std()\n",
    "N = sqrt(len(means))\n",
    "\n",
    "delta = z_confidence * std / N\n",
    "pivotal_bootstrap_interval = (mean - delta, mean + delta)\n",
    "\n",
    "print(\"Pivotal bootstrap method confidence interval:\", pivotal_bootstrap_interval)"
   ]
  },
  {
   "cell_type": "markdown",
   "metadata": {},
   "source": [
    "### Non-pivotal bootstrap"
   ]
  },
  {
   "cell_type": "code",
   "execution_count": 16,
   "metadata": {
    "collapsed": false,
    "scrolled": true
   },
   "outputs": [
    {
     "name": "stdout",
     "output_type": "stream",
     "text": [
      "Non-pivotal bootstrap method confidence interval: (3096.4769999999999, 3177.9785000000002)\n"
     ]
    }
   ],
   "source": [
    "means.sort()\n",
    "delta = int((1 - confidence) / 2 * len(means))\n",
    "\n",
    "non_pivotal_bootstrap_interval = (means[delta], means[len(means) - delta])\n",
    "\n",
    "print(\"Non-pivotal bootstrap method confidence interval:\", non_pivotal_bootstrap_interval)"
   ]
  },
  {
   "cell_type": "markdown",
   "metadata": {},
   "source": [
    "Ниже приведены доверительные интервалы для среднего значения признака capacity, полученные\n",
    "статистическим методом, опорным и безопорным бутстрэпом соответственно:\n",
    "\n",
    "- (3128.907, 3146.480)\n",
    "- (3137.204, 3138.326)\n",
    "- (3096.476, 3177.978)\n",
    "\n",
    "учитывая, что среднее значение нашей признака равно 3137.693, можно утверждать что лучший результат дает техника опорного бутстрэпа. А значит, скорость сходимости выборочного среднего объемов жестких дисков к нормальному распределению с ростом размера семпла в данном наборе данных достаточно высокая."
   ]
  },
  {
   "cell_type": "markdown",
   "metadata": {},
   "source": [
    "## Mode"
   ]
  },
  {
   "cell_type": "markdown",
   "metadata": {},
   "source": [
    "Построение доверительного интервала для моды признака capacity кажется бессмысленным, т.к. мода для дискретных распределений, это значение признака которое встречается в наборе данных чаще всего (имеет наибольшую вероятность). Учитывая распределение признака, а именно его существенную сосредоточенность в конкретном значении, даже при небольшом объеме подвыборки мода сохраняется."
   ]
  },
  {
   "cell_type": "markdown",
   "metadata": {},
   "source": [
    "### Sample 500 items out of 40000+ and compare mode values"
   ]
  },
  {
   "cell_type": "code",
   "execution_count": 17,
   "metadata": {
    "collapsed": false,
    "scrolled": true
   },
   "outputs": [
    {
     "name": "stdout",
     "output_type": "stream",
     "text": [
      "Overall mode: 3726, Mode frequency: 0.6070804620013588\n",
      "Sample mode: 3726, Mode frequency: 0.622\n"
     ]
    }
   ],
   "source": [
    "sample = np.random.choice(capacities, 500)\n",
    "\n",
    "overall_mode = scipy.stats.mode(capacities)\n",
    "print(\"Overall mode: {}, Mode frequency: {}\".format(overall_mode[0][0], overall_mode[1][0] / len(capacities)))\n",
    "\n",
    "sample_mode = scipy.stats.mode(sample)\n",
    "print(\"Sample mode: {}, Mode frequency: {}\".format(sample_mode[0][0], sample_mode[1][0] / len(sample)))"
   ]
  },
  {
   "cell_type": "markdown",
   "metadata": {},
   "source": [
    "Видно, что частота моды достаточно высока, и следовательно вероятность того, что значение моды изменится для семплированной подвыборки очень мала."
   ]
  },
  {
   "cell_type": "markdown",
   "metadata": {},
   "source": [
    "С другой стороны, мода сильно зависит от способа дискретизации значений признака. Например, если не округлять значение capacity до гигабайт, то мода изменится и ее частота сильно упадет. Тогда вариативность ее значения для подвыборок сильно увеличится и можно будет рассуждать о нескольких возможных кандидатах в моду. К сожалению, датасет уже прошел предварительную обработку и вместимости дисков были дискретезированны до значений, указанных производителем. В реальности же, вместимость диска часто ощутимо отличается от значения, указанного производителем.  "
   ]
  },
  {
   "cell_type": "markdown",
   "metadata": {},
   "source": [
    "## Median"
   ]
  },
  {
   "cell_type": "markdown",
   "metadata": {},
   "source": [
    "Произведем бутстрэп, посчитаем медианы для каждой подвыборки и построим гистограмму полученных медиан\n"
   ]
  },
  {
   "cell_type": "code",
   "execution_count": 18,
   "metadata": {
    "collapsed": false,
    "scrolled": true
   },
   "outputs": [
    {
     "data": {
      "image/png": "[encoded data removed]",
      "text/plain": [
       "<matplotlib.figure.Figure at 0x1147ad0b8>"
      ]
     },
     "metadata": {},
     "output_type": "display_data"
    }
   ],
   "source": [
    "sample_count = 500\n",
    "sample_size = 200\n",
    "\n",
    "medians = np.array([\n",
    "    np.median(np.random.choice(capacities, sample_size)) for i in range(sample_count)\n",
    "])\n",
    "\n",
    "axes = sns.distplot(medians, kde=False)"
   ]
  },
  {
   "cell_type": "code",
   "execution_count": 19,
   "metadata": {
    "collapsed": false,
    "scrolled": true
   },
   "outputs": [
    {
     "name": "stdout",
     "output_type": "stream",
     "text": [
      "Medians mean: 3726.0\n",
      "Medians std: 0.0\n"
     ]
    }
   ],
   "source": [
    "print('Medians mean:', medians.mean())\n",
    "print('Medians std:', medians.std())"
   ]
  },
  {
   "cell_type": "markdown",
   "metadata": {},
   "source": [
    "Как видно, среднее значение медиан для опорного и безопорного бутстрэпа \n",
    "совпадает с медианой начального распределения, так как все 500 значений равны (среднеквадратичное отклонение = 0).\n",
    "    "
   ]
  },
  {
   "cell_type": "markdown",
   "metadata": {},
   "source": [
    "Здесь сыграл тот факт, что частота моды существенно больше $50\\%$, и значит мода всегда задевает центр распределения.\n",
    "Если бы эта вероятность была бы меньше $50\\%$, вариативность в семплированной медиане тоже бы наблюдалась."
   ]
  },
  {
   "cell_type": "markdown",
   "metadata": {},
   "source": [
    "### Split dataset into parts by disk vendor"
   ]
  },
  {
   "cell_type": "markdown",
   "metadata": {},
   "source": [
    "Разделим датасет на части, сгруппировав диски с одним и тем же производителем. Так как емкость диска зависит от его модели, а модель зависит от производителя, есть предположение, что распределение размеров дисков в группе изменится."
   ]
  },
  {
   "cell_type": "markdown",
   "metadata": {},
   "source": [
    "### Group drives by vendor"
   ]
  },
  {
   "cell_type": "code",
   "execution_count": 20,
   "metadata": {
    "collapsed": false,
    "scrolled": true
   },
   "outputs": [],
   "source": [
    "def extract_vendor(model):\n",
    "    if model.startswith(\"Hitachi\"):\n",
    "        return \"Hitachi\"\n",
    "    \n",
    "    if model.startswith(\"ST\"):\n",
    "        return \"Seagate\"\n",
    "    \n",
    "    if model.startswith(\"HGST\"):\n",
    "        return \"HGST\"\n",
    "    \n",
    "    return \"Others\"\n",
    "\n",
    "data[\"vendor\"] = data[\"model\"].map(extract_vendor)"
   ]
  },
  {
   "cell_type": "markdown",
   "metadata": {},
   "source": [
    "### Plot capacity boxplot for different vendors"
   ]
  },
  {
   "cell_type": "code",
   "execution_count": 21,
   "metadata": {
    "collapsed": false,
    "scrolled": true
   },
   "outputs": [
    {
     "data": {
      "image/png": "[encoded data removed]",
      "text/plain": [
       "<matplotlib.figure.Figure at 0x114fc0780>"
      ]
     },
     "metadata": {},
     "output_type": "display_data"
    }
   ],
   "source": [
    "axes = data.boxplot(column=\"capacity_gb\", by=\"vendor\")"
   ]
  },
  {
   "cell_type": "code",
   "execution_count": 22,
   "metadata": {
    "collapsed": false,
    "scrolled": true
   },
   "outputs": [
    {
     "data": {
      "image/png": "[encoded data removed]",
      "text/plain": [
       "<matplotlib.figure.Figure at 0x1147ad0f0>"
      ]
     },
     "metadata": {},
     "output_type": "display_data"
    }
   ],
   "source": [
    "axes = data.hist(column=\"capacity_gb\", by=\"vendor\")"
   ]
  },
  {
   "cell_type": "markdown",
   "metadata": {},
   "source": [
    "По боксплоту и гистограмме видно, что для разных производителей размеры дисков различаются."
   ]
  },
  {
   "cell_type": "code",
   "execution_count": 23,
   "metadata": {
    "collapsed": true,
    "scrolled": true
   },
   "outputs": [],
   "source": [
    "def computePivotalBootstrapConfidenceInterval(data):\n",
    "    sample_count = 1000\n",
    "    sample_size = len(data) // 2\n",
    "    \n",
    "    capacities = data[\"capacity_gb\"].values\n",
    "\n",
    "    means = np.array([\n",
    "        np.random.choice(capacities, sample_size).mean() for i in range(sample_count)\n",
    "    ])\n",
    "    \n",
    "    mean = means.mean()\n",
    "    std = means.std()\n",
    "    N = sqrt(len(means))\n",
    "\n",
    "    delta = z_confidence * std / N\n",
    "    pivotal_bootstrap_interval = (mean - delta, mean + delta)\n",
    "\n",
    "    return pivotal_bootstrap_interval\n",
    "\n",
    "def computeNonPivotalBootstrapConfidenceInterval(data):\n",
    "    sample_count = 1000\n",
    "    sample_size = len(data) // 2\n",
    "    \n",
    "    capacities = data[\"capacity_gb\"].values\n",
    "\n",
    "    means = np.array([\n",
    "        np.random.choice(capacities, sample_size).mean() for i in range(sample_count)\n",
    "    ])\n",
    "    \n",
    "    means.sort()\n",
    "    delta = int((1 - confidence) / 2 * len(means))\n",
    "\n",
    "    non_pivotal_bootstrap_interval = (means[delta], means[len(means) - delta])\n",
    "\n",
    "    return non_pivotal_bootstrap_interval"
   ]
  },
  {
   "cell_type": "markdown",
   "metadata": {},
   "source": [
    "### Compare confidence intervals for vendors \"Hitachi\" and \"Seagate\" "
   ]
  },
  {
   "cell_type": "code",
   "execution_count": 24,
   "metadata": {
    "collapsed": false,
    "scrolled": true
   },
   "outputs": [
    {
     "name": "stdout",
     "output_type": "stream",
     "text": [
      "Number of Hitachi drives: 12870\n",
      "Pivotal bootstrap:     (2645.131290061026, 2646.1726216716856)\n",
      "Non-pivotal bootstrap: (2628.678477078477, 2662.2618492618494)\n",
      "\n",
      "Number of Seagate drives: 16132\n",
      "Pivotal bootstrap:     (3273.4813526334815, 3274.8715097518402)\n",
      "Non-pivotal bootstrap: (3253.5502107612201, 3295.6465410364494)\n",
      "\n"
     ]
    }
   ],
   "source": [
    "for vendor in [\"Hitachi\", \"Seagate\"]:\n",
    "    vendor_drives = data[data[\"vendor\"] == vendor]\n",
    "    vendor_pivotal_interval = computePivotalBootstrapConfidenceInterval(vendor_drives)\n",
    "    vendor_non_pivotal_interval = computeNonPivotalBootstrapConfidenceInterval(vendor_drives)\n",
    "\n",
    "    print(\"Number of {} drives: {}\".format(vendor, len(vendor_drives)))\n",
    "    print(\"Pivotal bootstrap:    \", vendor_pivotal_interval)\n",
    "    print(\"Non-pivotal bootstrap:\", vendor_non_pivotal_interval)\n",
    "    print()"
   ]
  },
  {
   "cell_type": "markdown",
   "metadata": {},
   "source": [
    "Доверительные интервалы размеров дисков для этих двух подмножеств датасета даже не пересекаются. На основании этого можно говорить о содержательном различии между средними значениями этого признака для этих подмножеств"
   ]
  },
  {
   "cell_type": "markdown",
   "metadata": {},
   "source": [
    "---\n",
    "## Homework 3: Regression"
   ]
  },
  {
   "cell_type": "code",
   "execution_count": 25,
   "metadata": {
    "collapsed": false
   },
   "outputs": [],
   "source": [
    "data = dataset.copy()\n",
    "\n",
    "data[\"spindle_cycles\"] = data[\"smart_4_raw\"]\n",
    "data[\"power_cycles\"] = data[\"smart_12_raw\"]"
   ]
  },
  {
   "cell_type": "markdown",
   "metadata": {},
   "source": [
    "### Remove outliers from dataset"
   ]
  },
  {
   "cell_type": "markdown",
   "metadata": {},
   "source": [
    "First of all we need to remove outliers from dataset because they really mess up the whole picture.\n",
    "We will throw away 1% of samples with highest value of target features. This will make the resulting regression much more robust. "
   ]
  },
  {
   "cell_type": "code",
   "execution_count": 26,
   "metadata": {
    "collapsed": true
   },
   "outputs": [],
   "source": [
    "def remove_outliers(data, columns, upper_quantile):\n",
    "    clean_data = data.copy()\n",
    "    clean_data = clean_data.dropna(subset=columns)\n",
    "    column_values = {}\n",
    "    for column in columns:\n",
    "        value = clean_data[column].quantile(upper_quantile)\n",
    "        column_values[column] = value\n",
    "        print(\"{}-quantile for column {} is {}\".format(upper_quantile, column, value))\n",
    "        \n",
    "    for column, value in column_values.items():\n",
    "        clean_data = clean_data[clean_data[column] < value]\n",
    "    print(\"Clean data fraction: {}\".format(len(clean_data) / len(data)))\n",
    "    return clean_data"
   ]
  },
  {
   "cell_type": "code",
   "execution_count": 27,
   "metadata": {
    "collapsed": false
   },
   "outputs": [
    {
     "name": "stdout",
     "output_type": "stream",
     "text": [
      "0.99-quantile for column spindle_cycles is 91.0\n",
      "0.99-quantile for column power_cycles is 86.0\n",
      "Clean data fraction: 0.9887896729108027\n"
     ]
    }
   ],
   "source": [
    "clean_data = remove_outliers(data, [\"spindle_cycles\", \"power_cycles\"], 0.99)"
   ]
  },
  {
   "cell_type": "markdown",
   "metadata": {},
   "source": [
    "### Scatterplot that shows linear-like dependence between two features"
   ]
  },
  {
   "cell_type": "markdown",
   "metadata": {},
   "source": [
    "Note, that this dependence is logically implied by the nature of features."
   ]
  },
  {
   "cell_type": "code",
   "execution_count": 28,
   "metadata": {
    "collapsed": false
   },
   "outputs": [
    {
     "data": {
      "image/png": "[encoded data removed]",
      "text/plain": [
       "<matplotlib.figure.Figure at 0x114e29b70>"
      ]
     },
     "metadata": {},
     "output_type": "display_data"
    }
   ],
   "source": [
    "axes = clean_data.plot(kind=\"scatter\", x=\"power_cycles\", y=\"spindle_cycles\")"
   ]
  },
  {
   "cell_type": "markdown",
   "metadata": {},
   "source": [
    "### Build linear regression of \"power_cycles\" over \"spindle_cycles\""
   ]
  },
  {
   "cell_type": "code",
   "execution_count": 29,
   "metadata": {
    "collapsed": false
   },
   "outputs": [
    {
     "name": "stdout",
     "output_type": "stream",
     "text": [
      "Slope: 1.01147413435\n",
      "Intercept: 0.0646470316287\n",
      "Correlation coefficient: 0.992528826846\n",
      "Determinacy coefficient: 0.985113472121\n"
     ]
    }
   ],
   "source": [
    "import scipy.stats as stats\n",
    "\n",
    "x = clean_data[\"power_cycles\"].values\n",
    "y = clean_data[\"spindle_cycles\"].values\n",
    "slope, intercept, r_value, p_value, std_err = stats.linregress(x, y)\n",
    "\n",
    "print(\"Slope:\", slope)\n",
    "print(\"Intercept:\", intercept)\n",
    "print(\"Correlation coefficient:\", r_value)\n",
    "print(\"Determinacy coefficient:\", r_value**2)"
   ]
  },
  {
   "cell_type": "markdown",
   "metadata": {},
   "source": [
    "Slope that is close to 1 shows that number of spindle_cycles is roughly equal to number of power_cycles. So probably this features have some causal dependence. For example, each power cycle causes a spindle cycle. Or they both depend on some third variable that causes change in both of them.\n",
    "\n",
    "Correlation coefficient close to 1 shows that features are connected with strong positive linear relationship.\n",
    "That also leads to a high determination coefficient - features are linearly dependant."
   ]
  },
  {
   "cell_type": "markdown",
   "metadata": {},
   "source": [
    "### Use strong bootstrap sampling to estimate 95% confidence intervals for slope, intercept and correlation coefficient"
   ]
  },
  {
   "cell_type": "code",
   "execution_count": 30,
   "metadata": {
    "collapsed": false
   },
   "outputs": [],
   "source": [
    "sample_count = 500\n",
    "sample_size = len(x)\n",
    "\n",
    "slopes = np.zeros(sample_count)\n",
    "intercepts = np.zeros(sample_count)\n",
    "r_values = np.zeros(sample_count)\n",
    "p_values = np.zeros(sample_count)\n",
    "std_errs = np.zeros(sample_count)\n",
    "\n",
    "for i in range(sample_count):\n",
    "    indices = np.random.randint(len(x), size=sample_size)\n",
    "    slopes[i], intercepts[i], r_values[i], p_values[i], std_errs[i] = stats.linregress(x[indices], y[indices])"
   ]
  },
  {
   "cell_type": "markdown",
   "metadata": {},
   "source": [
    "### Plot resulting regression parameters for sampled datasets"
   ]
  },
  {
   "cell_type": "code",
   "execution_count": 31,
   "metadata": {
    "collapsed": false
   },
   "outputs": [
    {
     "data": {
      "image/png": "[encoded data removed]",
      "text/plain": [
       "<matplotlib.figure.Figure at 0x113b034a8>"
      ]
     },
     "metadata": {},
     "output_type": "display_data"
    }
   ],
   "source": [
    "fig, ax = subplots(1, 3, sharey=True, figsize=(16, 6))\n",
    "ax[0].set_ylabel(\"frequency\", fontsize=16)\n",
    "ax[0].set_title(\"slope\")\n",
    "axes = ax[0].hist(slopes)\n",
    "ax[1].set_title(\"intercept\")\n",
    "axes = ax[1].hist(intercepts)\n",
    "ax[2].set_title(\"r_value\")\n",
    "axes = ax[2].hist(r_values)"
   ]
  },
  {
   "cell_type": "markdown",
   "metadata": {},
   "source": [
    "#### Distribution looks close to normal, let's check this using statistical test"
   ]
  },
  {
   "cell_type": "code",
   "execution_count": 32,
   "metadata": {
    "collapsed": false
   },
   "outputs": [
    {
     "name": "stdout",
     "output_type": "stream",
     "text": [
      "Normality test p-value for slopes: 0.928013730794\n",
      "Normality test p-value for intercepts: 0.933473724139\n",
      "Normality test p-value for r-values: 0.194101453122\n"
     ]
    }
   ],
   "source": [
    "print(\"Normality test p-value for slopes:\", stats.normaltest(slopes)[1])\n",
    "print(\"Normality test p-value for intercepts:\", stats.normaltest(intercepts)[1])\n",
    "print(\"Normality test p-value for r-values:\", stats.normaltest(r_values)[1])"
   ]
  },
  {
   "cell_type": "markdown",
   "metadata": {},
   "source": [
    "As we can see, all p-values are higher than 0.05 and we can't reject the null-hypotesis that data is distributed normally with high probability. As experiments show, p-values significantly depend on random seed and their variation is very high from run to run."
   ]
  },
  {
   "cell_type": "markdown",
   "metadata": {},
   "source": [
    "### Use pivotal bootstrap to estimate confidence intervals"
   ]
  },
  {
   "cell_type": "code",
   "execution_count": 33,
   "metadata": {
    "collapsed": false
   },
   "outputs": [
    {
     "name": "stdout",
     "output_type": "stream",
     "text": [
      "Pivotal bootstrap method confidence interval for slope:  (1.0113714327744872, 1.0114870661978703)\n",
      "Pivotal bootstrap method confidence interval for intercept:  (0.063977320382805916, 0.065996767388827801)\n",
      "Pivotal bootstrap method confidence interval for r_value:  (0.99246660023516198, 0.9926166058800644)\n"
     ]
    }
   ],
   "source": [
    "def computePivotalConfidenceInterval(values):\n",
    "    N = sqrt(len(values))\n",
    "    mean_value = values.mean()\n",
    "    std_value = values.std()\n",
    "    delta_value = z_confidence * std_value / N\n",
    "    return (mean_value - delta_value, mean_value + delta_value)\n",
    "    \n",
    "pivotal_bootstrap_interval_slope = computePivotalConfidenceInterval(slopes)\n",
    "pivotal_bootstrap_interval_intercept = computePivotalConfidenceInterval(intercepts)\n",
    "pivotal_bootstrap_interval_r_value = computePivotalConfidenceInterval(r_values)\n",
    "\n",
    "print(\"Pivotal bootstrap method confidence interval for slope: \", pivotal_bootstrap_interval_slope)\n",
    "print(\"Pivotal bootstrap method confidence interval for intercept: \", pivotal_bootstrap_interval_intercept)\n",
    "print(\"Pivotal bootstrap method confidence interval for r_value: \", pivotal_bootstrap_interval_r_value)"
   ]
  },
  {
   "cell_type": "markdown",
   "metadata": {},
   "source": [
    "### Use non-pivotal bootstrap to estimate confidence intervals"
   ]
  },
  {
   "cell_type": "code",
   "execution_count": 34,
   "metadata": {
    "collapsed": false
   },
   "outputs": [
    {
     "name": "stdout",
     "output_type": "stream",
     "text": [
      "Non pivotal bootstrap method confidence interval for slope: (1.0101649175740184, 1.0127573712106606)\n",
      "Non pivotal bootstrap method confidence interval for intercept: (0.042530970062655271, 0.087948015650717082)\n",
      "Non pivotal bootstrap method confidence interval for r_value: (0.99085138615760793, 0.99414754867836619)\n"
     ]
    }
   ],
   "source": [
    "def computeNonPivotalConfidenceInterval(values):\n",
    "    values.sort()\n",
    "    delta = int((1 - confidence) / 2 * len(values))\n",
    "    return (values[delta], values[len(values) - delta - 1])\n",
    "\n",
    "non_pivotal_bootstrap_interval_slope = computeNonPivotalConfidenceInterval(slopes)\n",
    "non_pivotal_bootstrap_interval_intercept = computeNonPivotalConfidenceInterval(intercepts)\n",
    "non_pivotal_bootstrap_interval_r_value = computeNonPivotalConfidenceInterval(r_values)\n",
    "\n",
    "print(\"Non pivotal bootstrap method confidence interval for slope:\", non_pivotal_bootstrap_interval_slope)\n",
    "print(\"Non pivotal bootstrap method confidence interval for intercept:\", non_pivotal_bootstrap_interval_intercept)\n",
    "print(\"Non pivotal bootstrap method confidence interval for r_value:\", non_pivotal_bootstrap_interval_r_value)"
   ]
  },
  {
   "cell_type": "markdown",
   "metadata": {},
   "source": [
    "Both pivotal and non-pivotal confidence intervals are very narrow meaning that variation is low."
   ]
  },
  {
   "cell_type": "markdown",
   "metadata": {},
   "source": [
    "### Compute average relative error"
   ]
  },
  {
   "cell_type": "code",
   "execution_count": 35,
   "metadata": {
    "collapsed": false
   },
   "outputs": [
    {
     "name": "stdout",
     "output_type": "stream",
     "text": [
      "Average relative error: 0.0314631521018\n"
     ]
    }
   ],
   "source": [
    "def computeAverageRelativeError(y_real, y_pred):\n",
    "    return (abs(y_real - y_pred) / y_real).mean()\n",
    "\n",
    "print(\"Average relative error:\", computeAverageRelativeError(y, x * slope + intercept))"
   ]
  },
  {
   "cell_type": "markdown",
   "metadata": {},
   "source": [
    "Average relative error is low as expected because determinacy coefficient is high."
   ]
  },
  {
   "cell_type": "markdown",
   "metadata": {},
   "source": [
    "### Use standard optimization routine to optimize average relative error"
   ]
  },
  {
   "cell_type": "code",
   "execution_count": 36,
   "metadata": {
    "collapsed": false
   },
   "outputs": [
    {
     "name": "stdout",
     "output_type": "stream",
     "text": [
      "   status: 2\n",
      "     nfev: 323\n",
      "  success: False\n",
      "      nit: 24\n",
      "      fun: 0.012566689724464957\n",
      "     njev: 78\n",
      "  message: 'Desired error not necessarily achieved due to precision loss.'\n",
      " hess_inv: array([[  1.60632650e-08,  -4.88592465e-08],\n",
      "       [ -4.88592465e-08,   3.62308778e-07]])\n",
      "        x: array([  9.99999989e-01,   2.86054514e-08])\n",
      "      jac: array([-0.00678663, -0.01109475])\n"
     ]
    }
   ],
   "source": [
    "result = scipy.optimize.minimize(lambda c: computeAverageRelativeError(y, c[0] * x + c[1]), [1,1])\n",
    "print(result)"
   ]
  },
  {
   "cell_type": "markdown",
   "metadata": {},
   "source": [
    "Resulting value is lower then average relative error obtained using least-squares regression"
   ]
  },
  {
   "cell_type": "markdown",
   "metadata": {},
   "source": [
    "### Use nature inspired optimization approach to minimize average relative error"
   ]
  },
  {
   "cell_type": "markdown",
   "metadata": {},
   "source": [
    "The resulting parameters will be in following boundaries:\n",
    "$$\n",
    "    slope \\in [0.9, 1.1]\\\\\n",
    "    intercept \\in [-1, 1]\n",
    "$$"
   ]
  },
  {
   "cell_type": "code",
   "execution_count": 37,
   "metadata": {
    "collapsed": true
   },
   "outputs": [],
   "source": [
    "minSlope, maxSlope = 0.9, 1.1\n",
    "minIntercept, maxIntercept = -1, 1"
   ]
  },
  {
   "cell_type": "markdown",
   "metadata": {},
   "source": [
    "#### As a baseline let's try simple gridsearch"
   ]
  },
  {
   "cell_type": "code",
   "execution_count": 38,
   "metadata": {
    "collapsed": false
   },
   "outputs": [
    {
     "name": "stdout",
     "output_type": "stream",
     "text": [
      "Min error: 0.0136536514005\n",
      "Best solution: (1.0010101010101011, -0.010101010101010055)\n"
     ]
    }
   ],
   "source": [
    "gridMinError = 1e9\n",
    "gridSolution = None\n",
    "for slope in np.linspace(minSlope, maxSlope, 100):\n",
    "    for intercept in np.linspace(minIntercept, maxIntercept, 100):\n",
    "        error = computeAverageRelativeError(y, x * slope + intercept)\n",
    "        if error < gridMinError:\n",
    "            gridMinError = error\n",
    "            gridSolution = (slope, intercept)\n",
    "            \n",
    "print(\"Min error:\", gridMinError)\n",
    "print(\"Best solution:\", gridSolution)"
   ]
  },
  {
   "cell_type": "markdown",
   "metadata": {
    "collapsed": true
   },
   "source": [
    "### Run genetic algorithm"
   ]
  },
  {
   "cell_type": "code",
   "execution_count": 39,
   "metadata": {
    "collapsed": false
   },
   "outputs": [
    {
     "name": "stdout",
     "output_type": "stream",
     "text": [
      "Elite solution updated, error: 0.012944850800772156, generation: 8\n",
      "Elite solution updated, error: 0.012684762970559354, generation: 12\n",
      "Elite solution updated, error: 0.012678029431856126, generation: 16\n",
      "Elite solution updated, error: 0.012605137382881071, generation: 19\n",
      "Elite solution updated, error: 0.012586082099906686, generation: 19\n",
      "Elite solution updated, error: 0.012583845712326597, generation: 45\n",
      "Elite solution updated, error: 0.012576569038273377, generation: 107\n"
     ]
    }
   ],
   "source": [
    "populationSize = 200\n",
    "generationsNumber = 200\n",
    "\n",
    "slopesPopulation = np.random.uniform(minSlope, maxSlope, size=populationSize)\n",
    "interceptsPopulation = np.random.uniform(minIntercept, maxIntercept, size=populationSize)\n",
    "\n",
    "eliteSolution = gridSolution\n",
    "minError = gridMinError\n",
    "\n",
    "for generation in range(generationsNumber):\n",
    "    meanSlope = slopesPopulation.mean()\n",
    "    meanIntercept = interceptsPopulation.mean()\n",
    "    \n",
    "    nextSlopesPopulation = \\\n",
    "        np.clip(slopesPopulation + np.random.randn(populationSize) * meanSlope / 20.0, minSlope, maxSlope)\n",
    "    \n",
    "    nextInterceptsPopulation = \\\n",
    "        np.clip(interceptsPopulation + np.random.randn(populationSize) * meanIntercept / 20.0, minIntercept, maxIntercept)\n",
    "        \n",
    "    nextSlopesPopulation = nextSlopesPopulation * 0.7 + 0.3 * eliteSolution[0]\n",
    "    nextInterceptsPopulation = nextInterceptsPopulation * 0.7 + 0.3 * eliteSolution[1]\n",
    "    \n",
    "    for slope, intercept in zip(nextSlopesPopulation, nextInterceptsPopulation):\n",
    "        error = computeAverageRelativeError(y, x * slope + intercept)\n",
    "        if error < minError:\n",
    "            minError = error\n",
    "            eliteSolution = (slope, intercept)\n",
    "            print(\"Elite solution updated, error: {}, generation: {}\".format(minError, generation))\n",
    "            \n",
    "    slopesPopulation = nextSlopesPopulation\n",
    "    interceptsPopulation = nextInterceptsPopulation"
   ]
  },
  {
   "cell_type": "code",
   "execution_count": 40,
   "metadata": {
    "collapsed": false
   },
   "outputs": [
    {
     "name": "stdout",
     "output_type": "stream",
     "text": [
      "Best solution: (0.99998636821578846, 6.9707757116715054e-05)\n",
      "Averate relative error: 0.0125765690383\n",
      "Root mean square error:\n"
     ]
    }
   ],
   "source": [
    "print(\"Best solution:\", eliteSolution)\n",
    "print(\"Averate relative error:\", minError)\n",
    "print(\"Root mean square error:\", )"
   ]
  },
  {
   "cell_type": "markdown",
   "metadata": {},
   "source": [
    "Resulting error $0.0125$ is significantly lower than $0.0314$ obtained with least-squares regression."
   ]
  },
  {
   "cell_type": "markdown",
   "metadata": {},
   "source": [
    "---\n",
    "## Homework 4: Nominal features"
   ]
  },
  {
   "cell_type": "markdown",
   "metadata": {},
   "source": [
    "#### Discover histogram of disk capacities"
   ]
  },
  {
   "cell_type": "code",
   "execution_count": 41,
   "metadata": {
    "collapsed": false
   },
   "outputs": [
    {
     "data": {
      "image/png": "[encoded data removed]",
      "text/plain": [
       "<matplotlib.figure.Figure at 0x113a7f4e0>"
      ]
     },
     "metadata": {},
     "output_type": "display_data"
    }
   ],
   "source": [
    "data = dataset.copy()\n",
    "data['capacity_gb'] = data['capacity_bytes'] // 2**30\n",
    "axes = data['capacity_gb'].hist(bins = 40)"
   ]
  },
  {
   "cell_type": "markdown",
   "metadata": {},
   "source": [
    "### Discretize capacity value into 4 categories using pivots"
   ]
  },
  {
   "cell_type": "code",
   "execution_count": 42,
   "metadata": {
    "collapsed": false
   },
   "outputs": [],
   "source": [
    "capacity_pivots = [-inf, 1600, 2000, 3000, inf]\n",
    "capacity_categories = [\"tiny\", \"small\", \"medium\", \"huge\"]\n",
    "    \n",
    "data[\"capacity_category\"] = \\\n",
    "    pd.cut(data[\"capacity_gb\"], capacity_pivots, labels=capacity_categories)"
   ]
  },
  {
   "cell_type": "markdown",
   "metadata": {},
   "source": [
    "### Use vendor as natural nominal feature"
   ]
  },
  {
   "cell_type": "code",
   "execution_count": 43,
   "metadata": {
    "collapsed": true
   },
   "outputs": [],
   "source": [
    "data[\"vendor\"] = data[\"model\"].map(extract_vendor)"
   ]
  },
  {
   "cell_type": "markdown",
   "metadata": {},
   "source": [
    "### Discover hda_temperature feature"
   ]
  },
  {
   "cell_type": "code",
   "execution_count": 44,
   "metadata": {
    "collapsed": false
   },
   "outputs": [
    {
     "name": "stdout",
     "output_type": "stream",
     "text": [
      "hda_temperature 0.00-quantile: 16.0\n",
      "hda_temperature 0.25-quantile: 26.0\n",
      "hda_temperature 0.50-quantile: 187.0\n",
      "hda_temperature 0.75-quantile: 222.0\n",
      "hda_temperature 1.00-quantile: 253.0\n"
     ]
    },
    {
     "data": {
      "image/png": "[encoded data removed]",
      "text/plain": [
       "<matplotlib.figure.Figure at 0x10e3c8be0>"
      ]
     },
     "metadata": {},
     "output_type": "display_data"
    }
   ],
   "source": [
    "data[\"hda_temperature\"] = data[\"smart_194_normalized\"]\n",
    "data[\"hda_temperature\"].hist(bins = 40)\n",
    "\n",
    "for quantile in [0.00, 0.25, 0.50, 0.75, 1.00]:\n",
    "    print(\"hda_temperature {:0.2f}-quantile: {}\".format(quantile, data[\"hda_temperature\"].quantile(quantile)))"
   ]
  },
  {
   "cell_type": "markdown",
   "metadata": {},
   "source": [
    "### Discretize temperature feature using pivots"
   ]
  },
  {
   "cell_type": "code",
   "execution_count": 45,
   "metadata": {
    "collapsed": true
   },
   "outputs": [],
   "source": [
    "temperature_pivots = [-inf, 30, 187, 222, inf]\n",
    "temperature_categories = [\"low\", \"medium\", \"high\", \"extreme\"]\n",
    "    \n",
    "data[\"temperature_category\"] = \\\n",
    "    pd.cut(data[\"hda_temperature\"], temperature_pivots, labels=temperature_categories)"
   ]
  },
  {
   "cell_type": "markdown",
   "metadata": {},
   "source": [
    "### Narrow working set of columns to extracted nominal features"
   ]
  },
  {
   "cell_type": "code",
   "execution_count": 46,
   "metadata": {
    "collapsed": false
   },
   "outputs": [
    {
     "data": {
      "text/html": [
       "<div>\n",
       "<table border=\"1\" class=\"dataframe\">\n",
       "  <thead>\n",
       "    <tr style=\"text-align: right;\">\n",
       "      <th></th>\n",
       "      <th>capacity_category</th>\n",
       "      <th>vendor</th>\n",
       "      <th>temperature_category</th>\n",
       "    </tr>\n",
       "  </thead>\n",
       "  <tbody>\n",
       "    <tr>\n",
       "      <th>0</th>\n",
       "      <td>medium</td>\n",
       "      <td>Hitachi</td>\n",
       "      <td>extreme</td>\n",
       "    </tr>\n",
       "    <tr>\n",
       "      <th>1</th>\n",
       "      <td>medium</td>\n",
       "      <td>Hitachi</td>\n",
       "      <td>extreme</td>\n",
       "    </tr>\n",
       "    <tr>\n",
       "      <th>2</th>\n",
       "      <td>medium</td>\n",
       "      <td>Hitachi</td>\n",
       "      <td>extreme</td>\n",
       "    </tr>\n",
       "    <tr>\n",
       "      <th>3</th>\n",
       "      <td>medium</td>\n",
       "      <td>Hitachi</td>\n",
       "      <td>high</td>\n",
       "    </tr>\n",
       "    <tr>\n",
       "      <th>4</th>\n",
       "      <td>huge</td>\n",
       "      <td>Hitachi</td>\n",
       "      <td>high</td>\n",
       "    </tr>\n",
       "    <tr>\n",
       "      <th>5</th>\n",
       "      <td>huge</td>\n",
       "      <td>Seagate</td>\n",
       "      <td>low</td>\n",
       "    </tr>\n",
       "    <tr>\n",
       "      <th>6</th>\n",
       "      <td>huge</td>\n",
       "      <td>Hitachi</td>\n",
       "      <td>high</td>\n",
       "    </tr>\n",
       "    <tr>\n",
       "      <th>7</th>\n",
       "      <td>huge</td>\n",
       "      <td>Seagate</td>\n",
       "      <td>low</td>\n",
       "    </tr>\n",
       "    <tr>\n",
       "      <th>8</th>\n",
       "      <td>medium</td>\n",
       "      <td>Hitachi</td>\n",
       "      <td>extreme</td>\n",
       "    </tr>\n",
       "    <tr>\n",
       "      <th>9</th>\n",
       "      <td>huge</td>\n",
       "      <td>HGST</td>\n",
       "      <td>extreme</td>\n",
       "    </tr>\n",
       "    <tr>\n",
       "      <th>10</th>\n",
       "      <td>huge</td>\n",
       "      <td>HGST</td>\n",
       "      <td>extreme</td>\n",
       "    </tr>\n",
       "    <tr>\n",
       "      <th>11</th>\n",
       "      <td>huge</td>\n",
       "      <td>Hitachi</td>\n",
       "      <td>extreme</td>\n",
       "    </tr>\n",
       "    <tr>\n",
       "      <th>12</th>\n",
       "      <td>medium</td>\n",
       "      <td>Hitachi</td>\n",
       "      <td>extreme</td>\n",
       "    </tr>\n",
       "    <tr>\n",
       "      <th>13</th>\n",
       "      <td>huge</td>\n",
       "      <td>HGST</td>\n",
       "      <td>medium</td>\n",
       "    </tr>\n",
       "    <tr>\n",
       "      <th>14</th>\n",
       "      <td>huge</td>\n",
       "      <td>HGST</td>\n",
       "      <td>medium</td>\n",
       "    </tr>\n",
       "    <tr>\n",
       "      <th>15</th>\n",
       "      <td>medium</td>\n",
       "      <td>Hitachi</td>\n",
       "      <td>medium</td>\n",
       "    </tr>\n",
       "    <tr>\n",
       "      <th>16</th>\n",
       "      <td>medium</td>\n",
       "      <td>Hitachi</td>\n",
       "      <td>extreme</td>\n",
       "    </tr>\n",
       "    <tr>\n",
       "      <th>17</th>\n",
       "      <td>huge</td>\n",
       "      <td>HGST</td>\n",
       "      <td>extreme</td>\n",
       "    </tr>\n",
       "    <tr>\n",
       "      <th>18</th>\n",
       "      <td>tiny</td>\n",
       "      <td>Seagate</td>\n",
       "      <td>low</td>\n",
       "    </tr>\n",
       "    <tr>\n",
       "      <th>19</th>\n",
       "      <td>huge</td>\n",
       "      <td>HGST</td>\n",
       "      <td>extreme</td>\n",
       "    </tr>\n",
       "    <tr>\n",
       "      <th>20</th>\n",
       "      <td>medium</td>\n",
       "      <td>Hitachi</td>\n",
       "      <td>extreme</td>\n",
       "    </tr>\n",
       "    <tr>\n",
       "      <th>21</th>\n",
       "      <td>small</td>\n",
       "      <td>Hitachi</td>\n",
       "      <td>high</td>\n",
       "    </tr>\n",
       "    <tr>\n",
       "      <th>22</th>\n",
       "      <td>huge</td>\n",
       "      <td>HGST</td>\n",
       "      <td>high</td>\n",
       "    </tr>\n",
       "    <tr>\n",
       "      <th>23</th>\n",
       "      <td>huge</td>\n",
       "      <td>HGST</td>\n",
       "      <td>extreme</td>\n",
       "    </tr>\n",
       "    <tr>\n",
       "      <th>24</th>\n",
       "      <td>small</td>\n",
       "      <td>Hitachi</td>\n",
       "      <td>medium</td>\n",
       "    </tr>\n",
       "    <tr>\n",
       "      <th>25</th>\n",
       "      <td>huge</td>\n",
       "      <td>HGST</td>\n",
       "      <td>high</td>\n",
       "    </tr>\n",
       "    <tr>\n",
       "      <th>26</th>\n",
       "      <td>tiny</td>\n",
       "      <td>Seagate</td>\n",
       "      <td>medium</td>\n",
       "    </tr>\n",
       "    <tr>\n",
       "      <th>27</th>\n",
       "      <td>medium</td>\n",
       "      <td>Hitachi</td>\n",
       "      <td>extreme</td>\n",
       "    </tr>\n",
       "    <tr>\n",
       "      <th>28</th>\n",
       "      <td>huge</td>\n",
       "      <td>HGST</td>\n",
       "      <td>high</td>\n",
       "    </tr>\n",
       "    <tr>\n",
       "      <th>29</th>\n",
       "      <td>huge</td>\n",
       "      <td>HGST</td>\n",
       "      <td>high</td>\n",
       "    </tr>\n",
       "    <tr>\n",
       "      <th>...</th>\n",
       "      <td>...</td>\n",
       "      <td>...</td>\n",
       "      <td>...</td>\n",
       "    </tr>\n",
       "    <tr>\n",
       "      <th>41182</th>\n",
       "      <td>small</td>\n",
       "      <td>Hitachi</td>\n",
       "      <td>extreme</td>\n",
       "    </tr>\n",
       "    <tr>\n",
       "      <th>41183</th>\n",
       "      <td>huge</td>\n",
       "      <td>Seagate</td>\n",
       "      <td>low</td>\n",
       "    </tr>\n",
       "    <tr>\n",
       "      <th>41184</th>\n",
       "      <td>medium</td>\n",
       "      <td>Hitachi</td>\n",
       "      <td>extreme</td>\n",
       "    </tr>\n",
       "    <tr>\n",
       "      <th>41185</th>\n",
       "      <td>medium</td>\n",
       "      <td>Hitachi</td>\n",
       "      <td>medium</td>\n",
       "    </tr>\n",
       "    <tr>\n",
       "      <th>41186</th>\n",
       "      <td>huge</td>\n",
       "      <td>Seagate</td>\n",
       "      <td>low</td>\n",
       "    </tr>\n",
       "    <tr>\n",
       "      <th>41187</th>\n",
       "      <td>small</td>\n",
       "      <td>Hitachi</td>\n",
       "      <td>medium</td>\n",
       "    </tr>\n",
       "    <tr>\n",
       "      <th>41188</th>\n",
       "      <td>medium</td>\n",
       "      <td>Seagate</td>\n",
       "      <td>low</td>\n",
       "    </tr>\n",
       "    <tr>\n",
       "      <th>41189</th>\n",
       "      <td>huge</td>\n",
       "      <td>Seagate</td>\n",
       "      <td>low</td>\n",
       "    </tr>\n",
       "    <tr>\n",
       "      <th>41190</th>\n",
       "      <td>huge</td>\n",
       "      <td>Hitachi</td>\n",
       "      <td>extreme</td>\n",
       "    </tr>\n",
       "    <tr>\n",
       "      <th>41191</th>\n",
       "      <td>huge</td>\n",
       "      <td>Hitachi</td>\n",
       "      <td>extreme</td>\n",
       "    </tr>\n",
       "    <tr>\n",
       "      <th>41192</th>\n",
       "      <td>huge</td>\n",
       "      <td>HGST</td>\n",
       "      <td>extreme</td>\n",
       "    </tr>\n",
       "    <tr>\n",
       "      <th>41193</th>\n",
       "      <td>small</td>\n",
       "      <td>Hitachi</td>\n",
       "      <td>extreme</td>\n",
       "    </tr>\n",
       "    <tr>\n",
       "      <th>41194</th>\n",
       "      <td>huge</td>\n",
       "      <td>HGST</td>\n",
       "      <td>high</td>\n",
       "    </tr>\n",
       "    <tr>\n",
       "      <th>41195</th>\n",
       "      <td>huge</td>\n",
       "      <td>HGST</td>\n",
       "      <td>high</td>\n",
       "    </tr>\n",
       "    <tr>\n",
       "      <th>41196</th>\n",
       "      <td>huge</td>\n",
       "      <td>Hitachi</td>\n",
       "      <td>extreme</td>\n",
       "    </tr>\n",
       "    <tr>\n",
       "      <th>41197</th>\n",
       "      <td>huge</td>\n",
       "      <td>HGST</td>\n",
       "      <td>high</td>\n",
       "    </tr>\n",
       "    <tr>\n",
       "      <th>41198</th>\n",
       "      <td>tiny</td>\n",
       "      <td>Seagate</td>\n",
       "      <td>medium</td>\n",
       "    </tr>\n",
       "    <tr>\n",
       "      <th>41199</th>\n",
       "      <td>huge</td>\n",
       "      <td>HGST</td>\n",
       "      <td>extreme</td>\n",
       "    </tr>\n",
       "    <tr>\n",
       "      <th>41200</th>\n",
       "      <td>small</td>\n",
       "      <td>Hitachi</td>\n",
       "      <td>high</td>\n",
       "    </tr>\n",
       "    <tr>\n",
       "      <th>41201</th>\n",
       "      <td>huge</td>\n",
       "      <td>HGST</td>\n",
       "      <td>high</td>\n",
       "    </tr>\n",
       "    <tr>\n",
       "      <th>41202</th>\n",
       "      <td>tiny</td>\n",
       "      <td>Seagate</td>\n",
       "      <td>low</td>\n",
       "    </tr>\n",
       "    <tr>\n",
       "      <th>41203</th>\n",
       "      <td>huge</td>\n",
       "      <td>Seagate</td>\n",
       "      <td>low</td>\n",
       "    </tr>\n",
       "    <tr>\n",
       "      <th>41204</th>\n",
       "      <td>small</td>\n",
       "      <td>Hitachi</td>\n",
       "      <td>medium</td>\n",
       "    </tr>\n",
       "    <tr>\n",
       "      <th>41205</th>\n",
       "      <td>medium</td>\n",
       "      <td>Others</td>\n",
       "      <td>medium</td>\n",
       "    </tr>\n",
       "    <tr>\n",
       "      <th>41206</th>\n",
       "      <td>tiny</td>\n",
       "      <td>Others</td>\n",
       "      <td>medium</td>\n",
       "    </tr>\n",
       "    <tr>\n",
       "      <th>41207</th>\n",
       "      <td>medium</td>\n",
       "      <td>Hitachi</td>\n",
       "      <td>high</td>\n",
       "    </tr>\n",
       "    <tr>\n",
       "      <th>41208</th>\n",
       "      <td>huge</td>\n",
       "      <td>HGST</td>\n",
       "      <td>extreme</td>\n",
       "    </tr>\n",
       "    <tr>\n",
       "      <th>41209</th>\n",
       "      <td>huge</td>\n",
       "      <td>Seagate</td>\n",
       "      <td>low</td>\n",
       "    </tr>\n",
       "    <tr>\n",
       "      <th>41210</th>\n",
       "      <td>medium</td>\n",
       "      <td>Hitachi</td>\n",
       "      <td>high</td>\n",
       "    </tr>\n",
       "    <tr>\n",
       "      <th>41211</th>\n",
       "      <td>medium</td>\n",
       "      <td>Seagate</td>\n",
       "      <td>low</td>\n",
       "    </tr>\n",
       "  </tbody>\n",
       "</table>\n",
       "<p>41212 rows × 3 columns</p>\n",
       "</div>"
      ],
      "text/plain": [
       "      capacity_category   vendor temperature_category\n",
       "0                medium  Hitachi              extreme\n",
       "1                medium  Hitachi              extreme\n",
       "2                medium  Hitachi              extreme\n",
       "3                medium  Hitachi                 high\n",
       "4                  huge  Hitachi                 high\n",
       "5                  huge  Seagate                  low\n",
       "6                  huge  Hitachi                 high\n",
       "7                  huge  Seagate                  low\n",
       "8                medium  Hitachi              extreme\n",
       "9                  huge     HGST              extreme\n",
       "10                 huge     HGST              extreme\n",
       "11                 huge  Hitachi              extreme\n",
       "12               medium  Hitachi              extreme\n",
       "13                 huge     HGST               medium\n",
       "14                 huge     HGST               medium\n",
       "15               medium  Hitachi               medium\n",
       "16               medium  Hitachi              extreme\n",
       "17                 huge     HGST              extreme\n",
       "18                 tiny  Seagate                  low\n",
       "19                 huge     HGST              extreme\n",
       "20               medium  Hitachi              extreme\n",
       "21                small  Hitachi                 high\n",
       "22                 huge     HGST                 high\n",
       "23                 huge     HGST              extreme\n",
       "24                small  Hitachi               medium\n",
       "25                 huge     HGST                 high\n",
       "26                 tiny  Seagate               medium\n",
       "27               medium  Hitachi              extreme\n",
       "28                 huge     HGST                 high\n",
       "29                 huge     HGST                 high\n",
       "...                 ...      ...                  ...\n",
       "41182             small  Hitachi              extreme\n",
       "41183              huge  Seagate                  low\n",
       "41184            medium  Hitachi              extreme\n",
       "41185            medium  Hitachi               medium\n",
       "41186              huge  Seagate                  low\n",
       "41187             small  Hitachi               medium\n",
       "41188            medium  Seagate                  low\n",
       "41189              huge  Seagate                  low\n",
       "41190              huge  Hitachi              extreme\n",
       "41191              huge  Hitachi              extreme\n",
       "41192              huge     HGST              extreme\n",
       "41193             small  Hitachi              extreme\n",
       "41194              huge     HGST                 high\n",
       "41195              huge     HGST                 high\n",
       "41196              huge  Hitachi              extreme\n",
       "41197              huge     HGST                 high\n",
       "41198              tiny  Seagate               medium\n",
       "41199              huge     HGST              extreme\n",
       "41200             small  Hitachi                 high\n",
       "41201              huge     HGST                 high\n",
       "41202              tiny  Seagate                  low\n",
       "41203              huge  Seagate                  low\n",
       "41204             small  Hitachi               medium\n",
       "41205            medium   Others               medium\n",
       "41206              tiny   Others               medium\n",
       "41207            medium  Hitachi                 high\n",
       "41208              huge     HGST              extreme\n",
       "41209              huge  Seagate                  low\n",
       "41210            medium  Hitachi                 high\n",
       "41211            medium  Seagate                  low\n",
       "\n",
       "[41212 rows x 3 columns]"
      ]
     },
     "execution_count": 46,
     "metadata": {},
     "output_type": "execute_result"
    }
   ],
   "source": [
    "columns_working_set = [\n",
    "    \"capacity_category\", \"vendor\", \"temperature_category\",\n",
    "]\n",
    "\n",
    "working_set = data[columns_working_set].copy()\n",
    "working_set"
   ]
  },
  {
   "cell_type": "code",
   "execution_count": 47,
   "metadata": {
    "collapsed": true
   },
   "outputs": [],
   "source": [
    "def doContingencyAnalysis(dataset, first_feature, second_feature):\n",
    "    crosstab_without_margins = pd.crosstab(working_set[first_feature], working_set[second_feature])\n",
    "    crosstab = pd.crosstab(working_set[first_feature], working_set[second_feature], margins=True)\n",
    "    second_by_first_frequency = crosstab.divide(crosstab[\"All\"], axis=0)\n",
    "    first_by_second_frequency = crosstab.divide(crosstab.loc[\"All\"], axis=1).T\n",
    "    joint_probability = crosstab / len(dataset)\n",
    "    \n",
    "    relative_quetelet_index = joint_probability \\\n",
    "        .divide(joint_probability[\"All\"], axis=0) \\\n",
    "        .divide(joint_probability.loc[\"All\"], axis=1) - 1\n",
    "        \n",
    "    averagedQueteletIndex = (relative_quetelet_index * joint_probability).sum().sum()\n",
    "    \n",
    "    return {\n",
    "        \"crosstab\": crosstab,\n",
    "        \"crosstab_without_margins\": crosstab_without_margins,\n",
    "        \"first_by_second_frequency\": first_by_second_frequency,\n",
    "        \"second_by_first_frequency\": second_by_first_frequency,\n",
    "        \"joint_probability\": joint_probability,\n",
    "        \"relative_quetelet_index\": relative_quetelet_index,\n",
    "        \"averagedQueteletIndex\": averagedQueteletIndex,\n",
    "    }"
   ]
  },
  {
   "cell_type": "code",
   "execution_count": 48,
   "metadata": {
    "collapsed": true
   },
   "outputs": [],
   "source": [
    "capacity_vendor_result = doContingencyAnalysis(working_set, \"capacity_category\", \"vendor\")"
   ]
  },
  {
   "cell_type": "markdown",
   "metadata": {},
   "source": [
    "### Build contingency (co-occurrence) table for \"Capacity\" and \"Vendor\""
   ]
  },
  {
   "cell_type": "code",
   "execution_count": 49,
   "metadata": {
    "collapsed": false
   },
   "outputs": [
    {
     "data": {
      "text/html": [
       "<div>\n",
       "<table border=\"1\" class=\"dataframe\">\n",
       "  <thead>\n",
       "    <tr style=\"text-align: right;\">\n",
       "      <th>vendor</th>\n",
       "      <th>HGST</th>\n",
       "      <th>Hitachi</th>\n",
       "      <th>Others</th>\n",
       "      <th>Seagate</th>\n",
       "      <th>All</th>\n",
       "    </tr>\n",
       "    <tr>\n",
       "      <th>capacity_category</th>\n",
       "      <th></th>\n",
       "      <th></th>\n",
       "      <th></th>\n",
       "      <th></th>\n",
       "      <th></th>\n",
       "    </tr>\n",
       "  </thead>\n",
       "  <tbody>\n",
       "    <tr>\n",
       "      <th>tiny</th>\n",
       "      <td>0</td>\n",
       "      <td>1</td>\n",
       "      <td>859</td>\n",
       "      <td>2324</td>\n",
       "      <td>3184</td>\n",
       "    </tr>\n",
       "    <tr>\n",
       "      <th>small</th>\n",
       "      <td>0</td>\n",
       "      <td>4650</td>\n",
       "      <td>29</td>\n",
       "      <td>46</td>\n",
       "      <td>4725</td>\n",
       "    </tr>\n",
       "    <tr>\n",
       "      <th>medium</th>\n",
       "      <td>0</td>\n",
       "      <td>5620</td>\n",
       "      <td>907</td>\n",
       "      <td>1442</td>\n",
       "      <td>7969</td>\n",
       "    </tr>\n",
       "    <tr>\n",
       "      <th>huge</th>\n",
       "      <td>10100</td>\n",
       "      <td>2599</td>\n",
       "      <td>315</td>\n",
       "      <td>12320</td>\n",
       "      <td>25334</td>\n",
       "    </tr>\n",
       "    <tr>\n",
       "      <th>All</th>\n",
       "      <td>10100</td>\n",
       "      <td>12870</td>\n",
       "      <td>2110</td>\n",
       "      <td>16132</td>\n",
       "      <td>41212</td>\n",
       "    </tr>\n",
       "  </tbody>\n",
       "</table>\n",
       "</div>"
      ],
      "text/plain": [
       "vendor              HGST  Hitachi  Others  Seagate    All\n",
       "capacity_category                                        \n",
       "tiny                   0        1     859     2324   3184\n",
       "small                  0     4650      29       46   4725\n",
       "medium                 0     5620     907     1442   7969\n",
       "huge               10100     2599     315    12320  25334\n",
       "All                10100    12870    2110    16132  41212"
      ]
     },
     "execution_count": 49,
     "metadata": {},
     "output_type": "execute_result"
    }
   ],
   "source": [
    "capacity_vendor_result[\"crosstab\"]"
   ]
  },
  {
   "cell_type": "markdown",
   "metadata": {},
   "source": [
    "### Capacity by vendor conditional frequency table"
   ]
  },
  {
   "cell_type": "code",
   "execution_count": 50,
   "metadata": {
    "collapsed": false
   },
   "outputs": [
    {
     "data": {
      "text/html": [
       "<div>\n",
       "<table border=\"1\" class=\"dataframe\">\n",
       "  <thead>\n",
       "    <tr style=\"text-align: right;\">\n",
       "      <th>capacity_category</th>\n",
       "      <th>tiny</th>\n",
       "      <th>small</th>\n",
       "      <th>medium</th>\n",
       "      <th>huge</th>\n",
       "      <th>All</th>\n",
       "    </tr>\n",
       "    <tr>\n",
       "      <th>vendor</th>\n",
       "      <th></th>\n",
       "      <th></th>\n",
       "      <th></th>\n",
       "      <th></th>\n",
       "      <th></th>\n",
       "    </tr>\n",
       "  </thead>\n",
       "  <tbody>\n",
       "    <tr>\n",
       "      <th>HGST</th>\n",
       "      <td>0.000000</td>\n",
       "      <td>0.000000</td>\n",
       "      <td>0.000000</td>\n",
       "      <td>1.000000</td>\n",
       "      <td>1</td>\n",
       "    </tr>\n",
       "    <tr>\n",
       "      <th>Hitachi</th>\n",
       "      <td>0.000078</td>\n",
       "      <td>0.361305</td>\n",
       "      <td>0.436674</td>\n",
       "      <td>0.201943</td>\n",
       "      <td>1</td>\n",
       "    </tr>\n",
       "    <tr>\n",
       "      <th>Others</th>\n",
       "      <td>0.407109</td>\n",
       "      <td>0.013744</td>\n",
       "      <td>0.429858</td>\n",
       "      <td>0.149289</td>\n",
       "      <td>1</td>\n",
       "    </tr>\n",
       "    <tr>\n",
       "      <th>Seagate</th>\n",
       "      <td>0.144061</td>\n",
       "      <td>0.002851</td>\n",
       "      <td>0.089388</td>\n",
       "      <td>0.763699</td>\n",
       "      <td>1</td>\n",
       "    </tr>\n",
       "    <tr>\n",
       "      <th>All</th>\n",
       "      <td>0.077259</td>\n",
       "      <td>0.114651</td>\n",
       "      <td>0.193366</td>\n",
       "      <td>0.614724</td>\n",
       "      <td>1</td>\n",
       "    </tr>\n",
       "  </tbody>\n",
       "</table>\n",
       "</div>"
      ],
      "text/plain": [
       "capacity_category      tiny     small    medium      huge  All\n",
       "vendor                                                        \n",
       "HGST               0.000000  0.000000  0.000000  1.000000    1\n",
       "Hitachi            0.000078  0.361305  0.436674  0.201943    1\n",
       "Others             0.407109  0.013744  0.429858  0.149289    1\n",
       "Seagate            0.144061  0.002851  0.089388  0.763699    1\n",
       "All                0.077259  0.114651  0.193366  0.614724    1"
      ]
     },
     "execution_count": 50,
     "metadata": {},
     "output_type": "execute_result"
    }
   ],
   "source": [
    "capacity_vendor_result[\"first_by_second_frequency\"]"
   ]
  },
  {
   "cell_type": "markdown",
   "metadata": {},
   "source": [
    "As we can see, we get conceptual rule [HGST => huge capacity], and almost conceptual rule [Seagate => huge capacity]"
   ]
  },
  {
   "cell_type": "markdown",
   "metadata": {},
   "source": [
    "### Capacity and vendor Quetelet relative index table"
   ]
  },
  {
   "cell_type": "code",
   "execution_count": 51,
   "metadata": {
    "collapsed": false
   },
   "outputs": [
    {
     "data": {
      "text/html": [
       "<div>\n",
       "<table border=\"1\" class=\"dataframe\">\n",
       "  <thead>\n",
       "    <tr style=\"text-align: right;\">\n",
       "      <th>vendor</th>\n",
       "      <th>HGST</th>\n",
       "      <th>Hitachi</th>\n",
       "      <th>Others</th>\n",
       "      <th>Seagate</th>\n",
       "      <th>All</th>\n",
       "    </tr>\n",
       "    <tr>\n",
       "      <th>capacity_category</th>\n",
       "      <th></th>\n",
       "      <th></th>\n",
       "      <th></th>\n",
       "      <th></th>\n",
       "      <th></th>\n",
       "    </tr>\n",
       "  </thead>\n",
       "  <tbody>\n",
       "    <tr>\n",
       "      <th>tiny</th>\n",
       "      <td>-1.000000</td>\n",
       "      <td>-0.998994</td>\n",
       "      <td>4.269402</td>\n",
       "      <td>0.864655</td>\n",
       "      <td>0</td>\n",
       "    </tr>\n",
       "    <tr>\n",
       "      <th>small</th>\n",
       "      <td>-1.000000</td>\n",
       "      <td>2.151347</td>\n",
       "      <td>-0.880123</td>\n",
       "      <td>-0.975129</td>\n",
       "      <td>0</td>\n",
       "    </tr>\n",
       "    <tr>\n",
       "      <th>medium</th>\n",
       "      <td>-1.000000</td>\n",
       "      <td>1.258279</td>\n",
       "      <td>1.223027</td>\n",
       "      <td>-0.537729</td>\n",
       "      <td>0</td>\n",
       "    </tr>\n",
       "    <tr>\n",
       "      <th>huge</th>\n",
       "      <td>0.626747</td>\n",
       "      <td>-0.671491</td>\n",
       "      <td>-0.757144</td>\n",
       "      <td>0.242346</td>\n",
       "      <td>0</td>\n",
       "    </tr>\n",
       "    <tr>\n",
       "      <th>All</th>\n",
       "      <td>0.000000</td>\n",
       "      <td>0.000000</td>\n",
       "      <td>0.000000</td>\n",
       "      <td>0.000000</td>\n",
       "      <td>0</td>\n",
       "    </tr>\n",
       "  </tbody>\n",
       "</table>\n",
       "</div>"
      ],
      "text/plain": [
       "vendor                 HGST   Hitachi    Others   Seagate  All\n",
       "capacity_category                                             \n",
       "tiny              -1.000000 -0.998994  4.269402  0.864655    0\n",
       "small             -1.000000  2.151347 -0.880123 -0.975129    0\n",
       "medium            -1.000000  1.258279  1.223027 -0.537729    0\n",
       "huge               0.626747 -0.671491 -0.757144  0.242346    0\n",
       "All                0.000000  0.000000  0.000000  0.000000    0"
      ]
     },
     "execution_count": 51,
     "metadata": {},
     "output_type": "execute_result"
    }
   ],
   "source": [
    "capacity_vendor_result[\"relative_quetelet_index\"]"
   ]
  },
  {
   "cell_type": "markdown",
   "metadata": {},
   "source": [
    "As we can see tiny capacity given Other producers is 426% more frequent than on average as well as small capacity given Hitachi is 215% more frequent than on average"
   ]
  },
  {
   "cell_type": "markdown",
   "metadata": {},
   "source": [
    "### Compute averaged Quetelet index for \"Capacity-Vendor\" features pair"
   ]
  },
  {
   "cell_type": "code",
   "execution_count": 52,
   "metadata": {
    "collapsed": false
   },
   "outputs": [
    {
     "name": "stdout",
     "output_type": "stream",
     "text": [
      "Averaged Quetelet index: 0.736358480807\n"
     ]
    }
   ],
   "source": [
    "print(\"Averaged Quetelet index:\", capacity_vendor_result[\"averagedQueteletIndex\"])"
   ]
  },
  {
   "cell_type": "markdown",
   "metadata": {},
   "source": [
    "Averaged Quetelet index shows that on average knowledge of Vendor “adds” 73.6% to information about frequency of capacity category"
   ]
  },
  {
   "cell_type": "markdown",
   "metadata": {},
   "source": [
    "We have \n",
    "\n",
    "$$\n",
    "    N_{vendors} = 4 \\\\\n",
    "    N_{capacities} = 4 \\\\\n",
    "    N_{dof} = (N_{vendors} - 1) \\cdot (N_{capacities} - 1) = 9 \\\\\n",
    "    N_{samples} = 41212 \\\\\n",
    "    Q = \\chi^2 = 0.7364 \\\\\n",
    "    N_{samples} \\cdot \\chi^2 \\approx 30347 > 21,6660 \\text{ (99% quantile)} > 16,9190 \\text{ (95% quantile)}\n",
    "$$\n",
    "\n",
    "So hypothesis that the features are independent in population is to be rejected with 99% confidence\n",
    "\n"
   ]
  },
  {
   "cell_type": "code",
   "execution_count": 53,
   "metadata": {
    "collapsed": true
   },
   "outputs": [],
   "source": [
    "temperature_vendor_result = doContingencyAnalysis(working_set, \"temperature_category\", \"vendor\")"
   ]
  },
  {
   "cell_type": "markdown",
   "metadata": {},
   "source": [
    "### Build contingency (co-occurrence) table for \"Temperature\" and \"Vendor\""
   ]
  },
  {
   "cell_type": "code",
   "execution_count": 54,
   "metadata": {
    "collapsed": false
   },
   "outputs": [
    {
     "data": {
      "text/html": [
       "<div>\n",
       "<table border=\"1\" class=\"dataframe\">\n",
       "  <thead>\n",
       "    <tr style=\"text-align: right;\">\n",
       "      <th>vendor</th>\n",
       "      <th>HGST</th>\n",
       "      <th>Hitachi</th>\n",
       "      <th>Others</th>\n",
       "      <th>Seagate</th>\n",
       "      <th>All</th>\n",
       "    </tr>\n",
       "    <tr>\n",
       "      <th>temperature_category</th>\n",
       "      <th></th>\n",
       "      <th></th>\n",
       "      <th></th>\n",
       "      <th></th>\n",
       "      <th></th>\n",
       "    </tr>\n",
       "  </thead>\n",
       "  <tbody>\n",
       "    <tr>\n",
       "      <th>low</th>\n",
       "      <td>0</td>\n",
       "      <td>0</td>\n",
       "      <td>0</td>\n",
       "      <td>14694</td>\n",
       "      <td>14694</td>\n",
       "    </tr>\n",
       "    <tr>\n",
       "      <th>medium</th>\n",
       "      <td>1385</td>\n",
       "      <td>1778</td>\n",
       "      <td>2062</td>\n",
       "      <td>1438</td>\n",
       "      <td>6663</td>\n",
       "    </tr>\n",
       "    <tr>\n",
       "      <th>high</th>\n",
       "      <td>5033</td>\n",
       "      <td>4969</td>\n",
       "      <td>3</td>\n",
       "      <td>0</td>\n",
       "      <td>10005</td>\n",
       "    </tr>\n",
       "    <tr>\n",
       "      <th>extreme</th>\n",
       "      <td>3682</td>\n",
       "      <td>6123</td>\n",
       "      <td>44</td>\n",
       "      <td>0</td>\n",
       "      <td>9849</td>\n",
       "    </tr>\n",
       "    <tr>\n",
       "      <th>All</th>\n",
       "      <td>10100</td>\n",
       "      <td>12870</td>\n",
       "      <td>2110</td>\n",
       "      <td>16132</td>\n",
       "      <td>41212</td>\n",
       "    </tr>\n",
       "  </tbody>\n",
       "</table>\n",
       "</div>"
      ],
      "text/plain": [
       "vendor                 HGST  Hitachi  Others  Seagate    All\n",
       "temperature_category                                        \n",
       "low                       0        0       0    14694  14694\n",
       "medium                 1385     1778    2062     1438   6663\n",
       "high                   5033     4969       3        0  10005\n",
       "extreme                3682     6123      44        0   9849\n",
       "All                   10100    12870    2110    16132  41212"
      ]
     },
     "execution_count": 54,
     "metadata": {},
     "output_type": "execute_result"
    }
   ],
   "source": [
    "temperature_vendor_result[\"crosstab\"]"
   ]
  },
  {
   "cell_type": "markdown",
   "metadata": {},
   "source": [
    "### Temperature by vendor conditional frequency table"
   ]
  },
  {
   "cell_type": "code",
   "execution_count": 55,
   "metadata": {
    "collapsed": false
   },
   "outputs": [
    {
     "data": {
      "text/html": [
       "<div>\n",
       "<table border=\"1\" class=\"dataframe\">\n",
       "  <thead>\n",
       "    <tr style=\"text-align: right;\">\n",
       "      <th>temperature_category</th>\n",
       "      <th>low</th>\n",
       "      <th>medium</th>\n",
       "      <th>high</th>\n",
       "      <th>extreme</th>\n",
       "      <th>All</th>\n",
       "    </tr>\n",
       "    <tr>\n",
       "      <th>vendor</th>\n",
       "      <th></th>\n",
       "      <th></th>\n",
       "      <th></th>\n",
       "      <th></th>\n",
       "      <th></th>\n",
       "    </tr>\n",
       "  </thead>\n",
       "  <tbody>\n",
       "    <tr>\n",
       "      <th>HGST</th>\n",
       "      <td>0.000000</td>\n",
       "      <td>0.137129</td>\n",
       "      <td>0.498317</td>\n",
       "      <td>0.364554</td>\n",
       "      <td>1</td>\n",
       "    </tr>\n",
       "    <tr>\n",
       "      <th>Hitachi</th>\n",
       "      <td>0.000000</td>\n",
       "      <td>0.138151</td>\n",
       "      <td>0.386092</td>\n",
       "      <td>0.475758</td>\n",
       "      <td>1</td>\n",
       "    </tr>\n",
       "    <tr>\n",
       "      <th>Others</th>\n",
       "      <td>0.000000</td>\n",
       "      <td>0.977251</td>\n",
       "      <td>0.001422</td>\n",
       "      <td>0.020853</td>\n",
       "      <td>1</td>\n",
       "    </tr>\n",
       "    <tr>\n",
       "      <th>Seagate</th>\n",
       "      <td>0.910860</td>\n",
       "      <td>0.089140</td>\n",
       "      <td>0.000000</td>\n",
       "      <td>0.000000</td>\n",
       "      <td>1</td>\n",
       "    </tr>\n",
       "    <tr>\n",
       "      <th>All</th>\n",
       "      <td>0.356547</td>\n",
       "      <td>0.161676</td>\n",
       "      <td>0.242769</td>\n",
       "      <td>0.238984</td>\n",
       "      <td>1</td>\n",
       "    </tr>\n",
       "  </tbody>\n",
       "</table>\n",
       "</div>"
      ],
      "text/plain": [
       "temperature_category       low    medium      high   extreme  All\n",
       "vendor                                                           \n",
       "HGST                  0.000000  0.137129  0.498317  0.364554    1\n",
       "Hitachi               0.000000  0.138151  0.386092  0.475758    1\n",
       "Others                0.000000  0.977251  0.001422  0.020853    1\n",
       "Seagate               0.910860  0.089140  0.000000  0.000000    1\n",
       "All                   0.356547  0.161676  0.242769  0.238984    1"
      ]
     },
     "execution_count": 55,
     "metadata": {},
     "output_type": "execute_result"
    }
   ],
   "source": [
    "temperature_vendor_result[\"first_by_second_frequency\"]"
   ]
  },
  {
   "cell_type": "markdown",
   "metadata": {},
   "source": [
    "As we can see we get almost conceptual rules [Seagate => low temperature] and [Others => medium temperature]"
   ]
  },
  {
   "cell_type": "markdown",
   "metadata": {},
   "source": [
    "### Temperature and vendor Quetelet relative index table"
   ]
  },
  {
   "cell_type": "code",
   "execution_count": 56,
   "metadata": {
    "collapsed": false
   },
   "outputs": [
    {
     "data": {
      "text/html": [
       "<div>\n",
       "<table border=\"1\" class=\"dataframe\">\n",
       "  <thead>\n",
       "    <tr style=\"text-align: right;\">\n",
       "      <th>vendor</th>\n",
       "      <th>HGST</th>\n",
       "      <th>Hitachi</th>\n",
       "      <th>Others</th>\n",
       "      <th>Seagate</th>\n",
       "      <th>All</th>\n",
       "    </tr>\n",
       "    <tr>\n",
       "      <th>temperature_category</th>\n",
       "      <th></th>\n",
       "      <th></th>\n",
       "      <th></th>\n",
       "      <th></th>\n",
       "      <th></th>\n",
       "    </tr>\n",
       "  </thead>\n",
       "  <tbody>\n",
       "    <tr>\n",
       "      <th>low</th>\n",
       "      <td>-1.000000</td>\n",
       "      <td>-1.000000</td>\n",
       "      <td>-1.000000</td>\n",
       "      <td>1.554674</td>\n",
       "      <td>0</td>\n",
       "    </tr>\n",
       "    <tr>\n",
       "      <th>medium</th>\n",
       "      <td>-0.151831</td>\n",
       "      <td>-0.145510</td>\n",
       "      <td>5.044496</td>\n",
       "      <td>-0.448654</td>\n",
       "      <td>0</td>\n",
       "    </tr>\n",
       "    <tr>\n",
       "      <th>high</th>\n",
       "      <td>1.052637</td>\n",
       "      <td>0.590366</td>\n",
       "      <td>-0.994143</td>\n",
       "      <td>-1.000000</td>\n",
       "      <td>0</td>\n",
       "    </tr>\n",
       "    <tr>\n",
       "      <th>extreme</th>\n",
       "      <td>0.525436</td>\n",
       "      <td>0.990752</td>\n",
       "      <td>-0.912743</td>\n",
       "      <td>-1.000000</td>\n",
       "      <td>0</td>\n",
       "    </tr>\n",
       "    <tr>\n",
       "      <th>All</th>\n",
       "      <td>0.000000</td>\n",
       "      <td>0.000000</td>\n",
       "      <td>0.000000</td>\n",
       "      <td>0.000000</td>\n",
       "      <td>0</td>\n",
       "    </tr>\n",
       "  </tbody>\n",
       "</table>\n",
       "</div>"
      ],
      "text/plain": [
       "vendor                    HGST   Hitachi    Others   Seagate  All\n",
       "temperature_category                                             \n",
       "low                  -1.000000 -1.000000 -1.000000  1.554674    0\n",
       "medium               -0.151831 -0.145510  5.044496 -0.448654    0\n",
       "high                  1.052637  0.590366 -0.994143 -1.000000    0\n",
       "extreme               0.525436  0.990752 -0.912743 -1.000000    0\n",
       "All                   0.000000  0.000000  0.000000  0.000000    0"
      ]
     },
     "execution_count": 56,
     "metadata": {},
     "output_type": "execute_result"
    }
   ],
   "source": [
    "temperature_vendor_result[\"relative_quetelet_index\"]"
   ]
  },
  {
   "cell_type": "markdown",
   "metadata": {},
   "source": [
    "As we can see extreme temperature given Hitachi is 99% more frequent than on average. Also high temperature given HGST is 105% more frequent than on average"
   ]
  },
  {
   "cell_type": "code",
   "execution_count": 57,
   "metadata": {
    "collapsed": false
   },
   "outputs": [
    {
     "name": "stdout",
     "output_type": "stream",
     "text": [
      "Averaged Quetelet index: 1.17250563455\n"
     ]
    }
   ],
   "source": [
    "print(\"Averaged Quetelet index:\", temperature_vendor_result[\"averagedQueteletIndex\"])"
   ]
  },
  {
   "cell_type": "markdown",
   "metadata": {},
   "source": [
    "Averaged Quetelet index shows that on average knowledge of Vendor “adds” 117.3% to information about frequency of temperature category"
   ]
  },
  {
   "cell_type": "markdown",
   "metadata": {},
   "source": [
    "We have \n",
    "\n",
    "$$\n",
    "    N_{vendors} = 4 \\\\\n",
    "    N_{temperatures} = 4 \\\\\n",
    "    N_{dof} = (N_{vendors} - 1) \\cdot (N_{temperatures} - 1) = 9 \\\\\n",
    "    N_{samples} = 41212 \\\\\n",
    "    Q = \\chi^2 =1.1725 \\\\\n",
    "    N_{samples} \\cdot \\chi^2 \\approx 48321 > 21,6660 \\text{ (99% quantile)} > 16,9190 \\text{ (95% quantile)}\n",
    "$$\n",
    "\n",
    "So hypothesis that the features are independent in population is to be rejected with 99% confidence"
   ]
  },
  {
   "cell_type": "markdown",
   "metadata": {},
   "source": [
    "---\n",
    "## Homework 5: Linear regression"
   ]
  },
  {
   "cell_type": "code",
   "execution_count": 58,
   "metadata": {
    "collapsed": false
   },
   "outputs": [],
   "source": [
    "data = dataset.copy()\n",
    "\n",
    "data[\"spindle_cycles\"] = data[\"smart_4_raw\"]\n",
    "data[\"power_cycles\"] = data[\"smart_12_raw\"]\n",
    "data[\"load_cycles\"] = data[\"smart_193_raw\"]"
   ]
  },
  {
   "cell_type": "markdown",
   "metadata": {},
   "source": [
    "### Clean data"
   ]
  },
  {
   "cell_type": "code",
   "execution_count": 59,
   "metadata": {
    "collapsed": false
   },
   "outputs": [
    {
     "name": "stdout",
     "output_type": "stream",
     "text": [
      "0.99-quantile for column spindle_cycles is 72.0\n",
      "0.99-quantile for column power_cycles is 69.0\n",
      "0.99-quantile for column load_cycles is 316538.1500000004\n",
      "Clean data fraction: 0.9261380180529942\n",
      "Clean data fraction: 0.9991616013414378\n"
     ]
    }
   ],
   "source": [
    "def remove_zeroes(data, columns):\n",
    "    clean_data = data.copy()\n",
    "    for column in columns:\n",
    "        clean_data = clean_data[clean_data[column] != 0]\n",
    "    print(\"Clean data fraction: {}\".format(len(clean_data) / len(data)))\n",
    "    return clean_data\n",
    "\n",
    "clean_data = remove_outliers(data, [\"spindle_cycles\", \"power_cycles\", \"load_cycles\"], 0.99)\n",
    "clean_data = remove_zeroes(clean_data, [\"spindle_cycles\", \"power_cycles\", \"load_cycles\"])"
   ]
  },
  {
   "cell_type": "markdown",
   "metadata": {},
   "source": [
    "### Discover data distribution"
   ]
  },
  {
   "cell_type": "code",
   "execution_count": 60,
   "metadata": {
    "collapsed": false
   },
   "outputs": [
    {
     "data": {
      "image/png": "[encoded data removed]",
      "text/plain": [
       "<matplotlib.figure.Figure at 0x1139f4f60>"
      ]
     },
     "metadata": {},
     "output_type": "display_data"
    }
   ],
   "source": [
    "fig, ax = subplots(1, 3, sharey=True, figsize=(16, 6))\n",
    "ax[0].set_ylabel(\"frequency\", fontsize=16)\n",
    "ax[0].set_title(\"spindle_cycles\")\n",
    "axes = ax[0].hist(clean_data[\"spindle_cycles\"].values)\n",
    "ax[1].set_title(\"power_cycles\")\n",
    "axes = ax[1].hist(clean_data[\"power_cycles\"].values)\n",
    "ax[2].set_title(\"load_cycles\")\n",
    "axes = ax[2].hist(clean_data[\"load_cycles\"].values)"
   ]
  },
  {
   "cell_type": "markdown",
   "metadata": {},
   "source": [
    "### Build linear regression over raw data"
   ]
  },
  {
   "cell_type": "code",
   "execution_count": 61,
   "metadata": {
    "collapsed": false
   },
   "outputs": [
    {
     "name": "stdout",
     "output_type": "stream",
     "text": [
      "Intercept: -0.00052876779289\n",
      "Coefficients: [  1.01631034e+00  -1.00995714e-06]\n",
      "Determinacy coefficient: 0.986842401102\n"
     ]
    }
   ],
   "source": [
    "x = np.vstack([\n",
    "    clean_data[\"power_cycles\"].values,\n",
    "    clean_data[\"load_cycles\"].values\n",
    "]).T\n",
    "y = clean_data[\"spindle_cycles\"].values\n",
    "\n",
    "from sklearn import linear_model\n",
    "clf = linear_model.LinearRegression()\n",
    "model = clf.fit(x, y)\n",
    "\n",
    "determinacy_coefficient = model.score(x, y)\n",
    "\n",
    "print(\"Intercept:\", model.intercept_)\n",
    "print(\"Coefficients:\", model.coef_)\n",
    "print(\"Determinacy coefficient:\", determinacy_coefficient)"
   ]
  },
  {
   "cell_type": "markdown",
   "metadata": {},
   "source": [
    "### Build linear regression over standardized data"
   ]
  },
  {
   "cell_type": "code",
   "execution_count": 62,
   "metadata": {
    "collapsed": false
   },
   "outputs": [
    {
     "name": "stdout",
     "output_type": "stream",
     "text": [
      "Intercept: 13.2478235788\n",
      "Coefficients: [ 11.1895749  -0.0407887]\n",
      "Determinacy coefficient: 0.986842401102\n"
     ]
    },
    {
     "name": "stderr",
     "output_type": "stream",
     "text": [
      "/usr/local/lib/python3.5/site-packages/sklearn/utils/validation.py:420: DataConversionWarning: Data with input dtype int64 was converted to float64 by the scale function.\n",
      "  warnings.warn(msg, DataConversionWarning)\n"
     ]
    }
   ],
   "source": [
    "from sklearn import preprocessing\n",
    "\n",
    "x_standard = np.vstack([\n",
    "    preprocessing.scale(clean_data[\"power_cycles\"].values),\n",
    "    preprocessing.scale(clean_data[\"load_cycles\"].values),\n",
    "]).T\n",
    "\n",
    "clf_standard = linear_model.LinearRegression()\n",
    "model_standard = clf.fit(x_standard, y)\n",
    "\n",
    "determinacy_coefficient = model_standard.score(x_standard, y)\n",
    "\n",
    "print(\"Intercept:\", model_standard.intercept_)\n",
    "print(\"Coefficients:\", model_standard.coef_)\n",
    "print(\"Determinacy coefficient:\", determinacy_coefficient)"
   ]
  },
  {
   "cell_type": "markdown",
   "metadata": {},
   "source": [
    "Coefficients and intercepts are different for raw and standardized data. However in both cases first feature has bigger weight and determinacy coefficient is unchanged."
   ]
  },
  {
   "cell_type": "markdown",
   "metadata": {},
   "source": [
    "### Use strong bootstrap sampling to estimate 95% confidence intervals for slope, intercept and correlation coefficient"
   ]
  },
  {
   "cell_type": "code",
   "execution_count": 63,
   "metadata": {
    "collapsed": false
   },
   "outputs": [],
   "source": [
    "sample_count = 500\n",
    "sample_size = len(clean_data)\n",
    "\n",
    "slopes = np.zeros((sample_count, 2))\n",
    "intercepts = np.zeros(sample_count)\n",
    "determinacy_coefficients = np.zeros(sample_count)\n",
    "\n",
    "for i in range(sample_count):\n",
    "    indices = np.random.randint(len(x), size=sample_size)\n",
    "    from sklearn import linear_model\n",
    "    clf = linear_model.LinearRegression()\n",
    "    model = clf.fit(x[indices], y[indices])\n",
    "    determinacy_coefficient = model.score(x[indices], y[indices])\n",
    "\n",
    "    slopes[i] = model.coef_\n",
    "    intercepts[i] = model.intercept_\n",
    "    determinacy_coefficients[i] = determinacy_coefficient"
   ]
  },
  {
   "cell_type": "code",
   "execution_count": 64,
   "metadata": {
    "collapsed": false
   },
   "outputs": [
    {
     "data": {
      "image/png": "[encoded data removed]",
      "text/plain": [
       "<matplotlib.figure.Figure at 0x10e1a5ac8>"
      ]
     },
     "metadata": {},
     "output_type": "display_data"
    }
   ],
   "source": [
    "fig, ax = subplots(1, 3, sharey=True, figsize=(16, 6))\n",
    "ax[0].set_ylabel(\"frequency\", fontsize=16)\n",
    "ax[0].set_title(\"slope\")\n",
    "axes = ax[0].hist(slopes)\n",
    "ax[1].set_title(\"intercept\")\n",
    "axes = ax[1].hist(intercepts)\n",
    "ax[2].set_title(\"determinacy_coefficient\")\n",
    "axes = ax[2].hist(determinacy_coefficients)"
   ]
  },
  {
   "cell_type": "markdown",
   "metadata": {},
   "source": [
    "### Use pivotal bootstrap to estimate confidence intervals"
   ]
  },
  {
   "cell_type": "code",
   "execution_count": 65,
   "metadata": {
    "collapsed": false
   },
   "outputs": [
    {
     "name": "stdout",
     "output_type": "stream",
     "text": [
      "Pivotal bootstrap method confidence interval for determinacy_coefficient: (0.98660942190662815, 0.98695169938776184)\n"
     ]
    }
   ],
   "source": [
    "def computePivotalConfidenceInterval(values):\n",
    "    N = sqrt(len(values))\n",
    "    mean_value = values.mean()\n",
    "    std_value = values.std()\n",
    "    delta_value = z_confidence * std_value / N\n",
    "    return (mean_value - delta_value, mean_value + delta_value)\n",
    "    \n",
    "pivotal_bootstrap_interval_determinacy_coefficient = computePivotalConfidenceInterval(determinacy_coefficients)\n",
    "\n",
    "print(\"Pivotal bootstrap method confidence interval for determinacy_coefficient:\", \\\n",
    "    pivotal_bootstrap_interval_determinacy_coefficient)"
   ]
  },
  {
   "cell_type": "markdown",
   "metadata": {},
   "source": [
    "### Divide data into two groups by value of \"spindle_cycles\""
   ]
  },
  {
   "cell_type": "code",
   "execution_count": 66,
   "metadata": {
    "collapsed": false
   },
   "outputs": [],
   "source": [
    "quantile_value = clean_data[\"spindle_cycles\"].quantile(0.5)\n",
    "clean_data[\"group\"] = clean_data[\"spindle_cycles\"] > quantile_value"
   ]
  },
  {
   "cell_type": "code",
   "execution_count": 67,
   "metadata": {
    "collapsed": false
   },
   "outputs": [
    {
     "data": {
      "image/png": "[encoded data removed]",
      "text/plain": [
       "<matplotlib.figure.Figure at 0x1138222b0>"
      ]
     },
     "metadata": {},
     "output_type": "display_data"
    }
   ],
   "source": [
    "axes = sns.lmplot(\"power_cycles\", \"load_cycles\", data=clean_data, fit_reg=False, hue=\"group\")"
   ]
  },
  {
   "cell_type": "markdown",
   "metadata": {},
   "source": [
    "### Find linear discriminant rule to separate data from different groups"
   ]
  },
  {
   "cell_type": "code",
   "execution_count": 68,
   "metadata": {
    "collapsed": false
   },
   "outputs": [
    {
     "name": "stdout",
     "output_type": "stream",
     "text": [
      "Model accuracy: 0.918502202643\n"
     ]
    }
   ],
   "source": [
    "from sklearn import discriminant_analysis\n",
    "\n",
    "y = clean_data[\"group\"].values\n",
    "\n",
    "clf = discriminant_analysis.LinearDiscriminantAnalysis()\n",
    "model = clf.fit(x, y)\n",
    "\n",
    "accuracy = model.score(x, y)\n",
    "print(\"Model accuracy:\", accuracy)"
   ]
  },
  {
   "cell_type": "markdown",
   "metadata": {},
   "source": [
    "### Evaluate discriminant rule using K-Fold cross-validation"
   ]
  },
  {
   "cell_type": "code",
   "execution_count": 69,
   "metadata": {
    "collapsed": false
   },
   "outputs": [
    {
     "name": "stdout",
     "output_type": "stream",
     "text": [
      "Mean 2-fold accuracy: 0.918475980701\n",
      "Mean 10-fold accuracy: 0.916010753651\n"
     ]
    }
   ],
   "source": [
    "from sklearn.cross_validation import KFold\n",
    "\n",
    "def performKfoldValidation(x, y, n_folds):\n",
    "    kf = KFold(len(y), n_folds=n_folds)\n",
    "    accuracies = []\n",
    "    total_evals = 0\n",
    "    for train, test in kf:\n",
    "        x_train, y_train = x[train], y[train]\n",
    "        x_test, y_test = x[test], y[test]\n",
    "\n",
    "        clf = discriminant_analysis.LinearDiscriminantAnalysis()\n",
    "        model = clf.fit(x_train, y_train)\n",
    "\n",
    "        accuracy = clf.score(x_test, y_test)\n",
    "        accuracies += [accuracy]\n",
    "    return accuracies\n",
    "\n",
    "fold_accuracies_2 = performKfoldValidation(x, y, 2)\n",
    "fold_accuracies_10 = performKfoldValidation(x, y, 10)\n",
    "\n",
    "print(\"Mean 2-fold accuracy:\", np.mean(fold_accuracies_2))\n",
    "print(\"Mean 10-fold accuracy:\", np.mean(fold_accuracies_10))"
   ]
  },
  {
   "cell_type": "markdown",
   "metadata": {},
   "source": [
    "As we can see, difference in accuracy for different number of folds in very close meaning that our discriminant rule is not overfitting too much."
   ]
  },
  {
   "cell_type": "markdown",
   "metadata": {},
   "source": [
    "## Homework 6: PCA"
   ]
  },
  {
   "cell_type": "markdown",
   "metadata": {},
   "source": [
    "### Select features"
   ]
  },
  {
   "cell_type": "code",
   "execution_count": 70,
   "metadata": {
    "collapsed": false
   },
   "outputs": [
    {
     "name": "stdout",
     "output_type": "stream",
     "text": [
      "0.99-quantile for column throughput is 139.0\n",
      "0.99-quantile for column spin_up_time is 149.0\n",
      "0.99-quantile for column seek_time is 138.0\n",
      "Clean data fraction: 0.5477288168494613\n"
     ]
    }
   ],
   "source": [
    "data = dataset.copy()\n",
    "data[\"vendor\"] = data[\"model\"].map(extract_vendor)\n",
    "data[\"throughput\"] = data[\"smart_2_normalized\"]\n",
    "data[\"spin_up_time\"] = data[\"smart_3_normalized\"]\n",
    "data[\"seek_time\"] = data[\"smart_8_normalized\"]\n",
    "\n",
    "clean_data = remove_outliers(data, [\"throughput\", \"spin_up_time\", \"seek_time\"], 0.99)\n",
    "\n",
    "columns_working_set = [\n",
    "    \"vendor\", \"throughput\", \"spin_up_time\", \"seek_time\"\n",
    "]\n",
    "\n",
    "data = clean_data[columns_working_set].copy()"
   ]
  },
  {
   "cell_type": "markdown",
   "metadata": {},
   "source": [
    "All features are related to disk drive performance aspect"
   ]
  },
  {
   "cell_type": "markdown",
   "metadata": {},
   "source": [
    "### Standardize data"
   ]
  },
  {
   "cell_type": "code",
   "execution_count": 71,
   "metadata": {
    "collapsed": false
   },
   "outputs": [
    {
     "name": "stderr",
     "output_type": "stream",
     "text": [
      "/usr/local/lib/python3.5/site-packages/sklearn/utils/validation.py:420: DataConversionWarning: Data with input dtype int64 was converted to float64 by the scale function.\n",
      "  warnings.warn(msg, DataConversionWarning)\n"
     ]
    }
   ],
   "source": [
    "for column in columns_working_set:\n",
    "    if column == \"vendor\":\n",
    "        continue\n",
    "    data[column] = preprocessing.scale(data[column])"
   ]
  },
  {
   "cell_type": "markdown",
   "metadata": {},
   "source": [
    "### Plot different dimensions of data"
   ]
  },
  {
   "cell_type": "code",
   "execution_count": 72,
   "metadata": {
    "collapsed": false
   },
   "outputs": [
    {
     "data": {
      "image/png": "[encoded data removed]",
      "text/plain": [
       "<matplotlib.figure.Figure at 0x1124706d8>"
      ]
     },
     "metadata": {},
     "output_type": "display_data"
    }
   ],
   "source": [
    "melted_data = pd.melt(data, \"vendor\", var_name=\"measurement\")\n",
    "\n",
    "axes = sns.stripplot(x=\"measurement\", y=\"value\", hue=\"vendor\", data=melted_data, jitter=True, edgecolor=\"gray\")"
   ]
  },
  {
   "cell_type": "markdown",
   "metadata": {},
   "source": [
    "### Apply PCA transformation to data"
   ]
  },
  {
   "cell_type": "code",
   "execution_count": 73,
   "metadata": {
    "collapsed": false
   },
   "outputs": [],
   "source": [
    "from sklearn import decomposition\n",
    "\n",
    "x = data.drop(\"vendor\", axis=1)\n",
    "\n",
    "pca = decomposition.PCA(n_components=2)\n",
    "pca_model = pca.fit(x)\n",
    "\n",
    "x_transformed = pca_model.transform(x)\n",
    "\n",
    "data_transformed = pd.DataFrame(x_transformed, columns=[\"x\", \"y\"])\n",
    "data_transformed[\"vendor\"] = data[\"vendor\"]"
   ]
  },
  {
   "cell_type": "code",
   "execution_count": 74,
   "metadata": {
    "collapsed": false
   },
   "outputs": [
    {
     "data": {
      "image/png": "[encoded data removed]",
      "text/plain": [
       "<matplotlib.figure.Figure at 0x1139e49b0>"
      ]
     },
     "metadata": {},
     "output_type": "display_data"
    }
   ],
   "source": [
    "axes = sns.lmplot(\"x\", \"y\", data=data_transformed, fit_reg=False, hue=\"vendor\", size=10)"
   ]
  },
  {
   "cell_type": "markdown",
   "metadata": {},
   "source": [
    "### Plot hidden factor found by PCA"
   ]
  },
  {
   "cell_type": "code",
   "execution_count": 75,
   "metadata": {
    "collapsed": false
   },
   "outputs": [
    {
     "data": {
      "image/png": "[encoded data removed]",
      "text/plain": [
       "<matplotlib.figure.Figure at 0x1117e6278>"
      ]
     },
     "metadata": {},
     "output_type": "display_data"
    }
   ],
   "source": [
    "melted_data_transformed = pd.melt(data_transformed, \"vendor\", var_name=\"measurement\")\n",
    "\n",
    "axes = sns.stripplot(x=\"measurement\", y=\"value\", hue=\"vendor\", data=melted_data_transformed,\n",
    "              jitter=True, edgecolor=\"gray\")"
   ]
  },
  {
   "cell_type": "markdown",
   "metadata": {},
   "source": [
    "Unfortunately, it's difficult to come up with interpretation of hidden factor. \"x\" obviously correlates with all dimensions. It can be seen in the gap between values $[-2, 0]$ in visualization."
   ]
  },
  {
   "cell_type": "markdown",
   "metadata": {},
   "source": [
    "## Homework 7: Clustering"
   ]
  },
  {
   "cell_type": "markdown",
   "metadata": {},
   "source": [
    "### Compute errors for different number of clusters centers for KMeans algorithm"
   ]
  },
  {
   "cell_type": "code",
   "execution_count": 76,
   "metadata": {
    "collapsed": true
   },
   "outputs": [],
   "source": [
    "from sklearn import cluster\n",
    "\n",
    "x = data.drop(\"vendor\", axis=1)\n",
    "\n",
    "ns_clusters = []\n",
    "scores = []\n",
    "\n",
    "for n_clusters in range(1, 10):\n",
    "    kmeans = cluster.KMeans(n_clusters=n_clusters)\n",
    "    model = kmeans.fit(x)\n",
    "    ns_clusters += [n_clusters]\n",
    "    scores += [-model.score(x)]"
   ]
  },
  {
   "cell_type": "code",
   "execution_count": 77,
   "metadata": {
    "collapsed": false
   },
   "outputs": [
    {
     "data": {
      "text/plain": [
       "[<matplotlib.lines.Line2D at 0x1139e4ac8>]"
      ]
     },
     "execution_count": 77,
     "metadata": {},
     "output_type": "execute_result"
    },
    {
     "data": {
      "image/png": "[encoded data removed]",
      "text/plain": [
       "<matplotlib.figure.Figure at 0x114aa5d68>"
      ]
     },
     "metadata": {},
     "output_type": "display_data"
    }
   ],
   "source": [
    "plt.xlabel(\"n_clusters\", fontsize=14)\n",
    "plt.ylabel(\"error\", fontsize=14)\n",
    "plt.plot(ns_clusters, scores)"
   ]
  },
  {
   "cell_type": "markdown",
   "metadata": {},
   "source": [
    "Using error plot and Elbow Method we can conclude that good number of clusters is 4."
   ]
  },
  {
   "cell_type": "code",
   "execution_count": 78,
   "metadata": {
    "collapsed": false
   },
   "outputs": [
    {
     "data": {
      "image/png": "[encoded data removed]",
      "text/plain": [
       "<matplotlib.figure.Figure at 0x114aaa4a8>"
      ]
     },
     "metadata": {},
     "output_type": "display_data"
    }
   ],
   "source": [
    "kmeans = cluster.KMeans(n_clusters=4)\n",
    "kmeans_clusters = kmeans.fit_predict(x)\n",
    "\n",
    "data_transformed = pd.DataFrame(x_transformed, columns=[\"x\", \"y\"])\n",
    "data_transformed[\"cluster\"] = kmeans_clusters\n",
    "\n",
    "axes = sns.lmplot(\"x\", \"y\", data=data_transformed, fit_reg=False, hue=\"cluster\", size=10)"
   ]
  },
  {
   "cell_type": "markdown",
   "metadata": {},
   "source": [
    "### Run Nearest-Neighbor clustering"
   ]
  },
  {
   "cell_type": "code",
   "execution_count": 79,
   "metadata": {
    "collapsed": false
   },
   "outputs": [],
   "source": [
    "from sklearn import neighbors\n",
    "\n",
    "nn = neighbors.NearestNeighbors(n_neighbors=50, algorithm='ball_tree')\n",
    "model = nn.fit(x)"
   ]
  },
  {
   "cell_type": "code",
   "execution_count": 80,
   "metadata": {
    "collapsed": true
   },
   "outputs": [],
   "source": [
    "agglomerative = cluster.AgglomerativeClustering(n_clusters=7, connectivity=model.kneighbors_graph)\n",
    "agglomeravite_model = agglomerative.fit(x)"
   ]
  },
  {
   "cell_type": "code",
   "execution_count": 81,
   "metadata": {
    "collapsed": false
   },
   "outputs": [
    {
     "data": {
      "image/png": "[encoded data removed]",
      "text/plain": [
       "<matplotlib.figure.Figure at 0x114e1a2e8>"
      ]
     },
     "metadata": {},
     "output_type": "display_data"
    }
   ],
   "source": [
    "data_transformed = pd.DataFrame(x_transformed, columns=[\"x\", \"y\"])\n",
    "data_transformed[\"cluster\"] = agglomeravite_model.labels_\n",
    "axes = sns.lmplot(\"x\", \"y\", data=data_transformed, fit_reg=False, hue=\"cluster\", size=10)"
   ]
  },
  {
   "cell_type": "markdown",
   "metadata": {},
   "source": [
    "Clustering looks really reasonable but it's strange to compare it with KMeans with 4 components."
   ]
  }
 ],
 "metadata": {
  "kernelspec": {
   "display_name": "Python 3",
   "language": "python",
   "name": "python3"
  },
  "language_info": {
   "codemirror_mode": {
    "name": "ipython",
    "version": 3
   },
   "file_extension": ".py",
   "mimetype": "text/x-python",
   "name": "python",
   "nbconvert_exporter": "python",
   "pygments_lexer": "ipython3",
   "version": "3.5.1"
  }
 },
 "nbformat": 4,
 "nbformat_minor": 0
}
