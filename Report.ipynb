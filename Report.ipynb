{
 "cells": [
  {
   "cell_type": "markdown",
   "metadata": {},
   "source": [
    "## Course: Data Analysis and Data Mining\n",
    "### Authors: Anvar Kurmukov, Andrey Kashin, Irina Osipova"
   ]
  },
  {
   "cell_type": "markdown",
   "metadata": {},
   "source": [
    "Dataset source: https://www.backblaze.com/hard-drive-test-data.html"
   ]
  },
  {
   "cell_type": "markdown",
   "metadata": {},
   "source": [
    "#### Do some basic imports "
   ]
  },
  {
   "cell_type": "code",
   "execution_count": 1,
   "metadata": {
    "collapsed": false,
    "scrolled": true
   },
   "outputs": [
    {
     "name": "stdout",
     "output_type": "stream",
     "text": [
      "Populating the interactive namespace from numpy and matplotlib\n"
     ]
    }
   ],
   "source": [
    "%pylab inline\n",
    "import pandas as pd\n",
    "import seaborn as sns"
   ]
  },
  {
   "cell_type": "markdown",
   "metadata": {},
   "source": [
    "#### Customize plotting"
   ]
  },
  {
   "cell_type": "code",
   "execution_count": 2,
   "metadata": {
    "collapsed": true,
    "scrolled": true
   },
   "outputs": [],
   "source": [
    "matplotlib.style.use('ggplot')"
   ]
  },
  {
   "cell_type": "markdown",
   "metadata": {},
   "source": [
    "#### Set random seed"
   ]
  },
  {
   "cell_type": "code",
   "execution_count": 3,
   "metadata": {
    "collapsed": true,
    "scrolled": true
   },
   "outputs": [],
   "source": [
    "numpy.random.seed(42)"
   ]
  },
  {
   "cell_type": "markdown",
   "metadata": {},
   "source": [
    "---\n",
    "\n",
    "## Homework 1: Overview of dataset"
   ]
  },
  {
   "cell_type": "markdown",
   "metadata": {},
   "source": [
    "### Exploring sample of the data:"
   ]
  },
  {
   "cell_type": "code",
   "execution_count": 4,
   "metadata": {
    "collapsed": false,
    "scrolled": true
   },
   "outputs": [
    {
     "name": "stdout",
     "output_type": "stream",
     "text": [
      "Size of sample: 41212\n",
      "Number of features: 95\n"
     ]
    },
    {
     "data": {
      "text/html": [
       "<div>\n",
       "<table border=\"1\" class=\"dataframe\">\n",
       "  <thead>\n",
       "    <tr style=\"text-align: right;\">\n",
       "      <th></th>\n",
       "      <th>date</th>\n",
       "      <th>serial_number</th>\n",
       "      <th>model</th>\n",
       "      <th>capacity_bytes</th>\n",
       "      <th>failure</th>\n",
       "      <th>smart_1_normalized</th>\n",
       "      <th>smart_1_raw</th>\n",
       "      <th>smart_2_normalized</th>\n",
       "      <th>smart_2_raw</th>\n",
       "      <th>smart_3_normalized</th>\n",
       "      <th>...</th>\n",
       "      <th>smart_250_normalized</th>\n",
       "      <th>smart_250_raw</th>\n",
       "      <th>smart_251_normalized</th>\n",
       "      <th>smart_251_raw</th>\n",
       "      <th>smart_252_normalized</th>\n",
       "      <th>smart_252_raw</th>\n",
       "      <th>smart_254_normalized</th>\n",
       "      <th>smart_254_raw</th>\n",
       "      <th>smart_255_normalized</th>\n",
       "      <th>smart_255_raw</th>\n",
       "    </tr>\n",
       "  </thead>\n",
       "  <tbody>\n",
       "    <tr>\n",
       "      <th>0</th>\n",
       "      <td>2015-01-01</td>\n",
       "      <td>MJ0351YNG9Z0XA</td>\n",
       "      <td>Hitachi HDS5C3030ALA630</td>\n",
       "      <td>3000592982016</td>\n",
       "      <td>0</td>\n",
       "      <td>100</td>\n",
       "      <td>0</td>\n",
       "      <td>135</td>\n",
       "      <td>108</td>\n",
       "      <td>143</td>\n",
       "      <td>...</td>\n",
       "      <td>NaN</td>\n",
       "      <td>NaN</td>\n",
       "      <td>NaN</td>\n",
       "      <td>NaN</td>\n",
       "      <td>NaN</td>\n",
       "      <td>NaN</td>\n",
       "      <td>NaN</td>\n",
       "      <td>NaN</td>\n",
       "      <td>NaN</td>\n",
       "      <td>NaN</td>\n",
       "    </tr>\n",
       "    <tr>\n",
       "      <th>1</th>\n",
       "      <td>2015-01-01</td>\n",
       "      <td>MJ0351YNG9WJSA</td>\n",
       "      <td>Hitachi HDS5C3030ALA630</td>\n",
       "      <td>3000592982016</td>\n",
       "      <td>0</td>\n",
       "      <td>100</td>\n",
       "      <td>0</td>\n",
       "      <td>136</td>\n",
       "      <td>104</td>\n",
       "      <td>127</td>\n",
       "      <td>...</td>\n",
       "      <td>NaN</td>\n",
       "      <td>NaN</td>\n",
       "      <td>NaN</td>\n",
       "      <td>NaN</td>\n",
       "      <td>NaN</td>\n",
       "      <td>NaN</td>\n",
       "      <td>NaN</td>\n",
       "      <td>NaN</td>\n",
       "      <td>NaN</td>\n",
       "      <td>NaN</td>\n",
       "    </tr>\n",
       "    <tr>\n",
       "      <th>2</th>\n",
       "      <td>2015-01-01</td>\n",
       "      <td>MJ0351YNG9Z7LA</td>\n",
       "      <td>Hitachi HDS5C3030ALA630</td>\n",
       "      <td>3000592982016</td>\n",
       "      <td>0</td>\n",
       "      <td>100</td>\n",
       "      <td>0</td>\n",
       "      <td>136</td>\n",
       "      <td>104</td>\n",
       "      <td>124</td>\n",
       "      <td>...</td>\n",
       "      <td>NaN</td>\n",
       "      <td>NaN</td>\n",
       "      <td>NaN</td>\n",
       "      <td>NaN</td>\n",
       "      <td>NaN</td>\n",
       "      <td>NaN</td>\n",
       "      <td>NaN</td>\n",
       "      <td>NaN</td>\n",
       "      <td>NaN</td>\n",
       "      <td>NaN</td>\n",
       "    </tr>\n",
       "    <tr>\n",
       "      <th>3</th>\n",
       "      <td>2015-01-01</td>\n",
       "      <td>MJ0351YNGABYAA</td>\n",
       "      <td>Hitachi HDS5C3030ALA630</td>\n",
       "      <td>3000592982016</td>\n",
       "      <td>0</td>\n",
       "      <td>100</td>\n",
       "      <td>0</td>\n",
       "      <td>136</td>\n",
       "      <td>104</td>\n",
       "      <td>137</td>\n",
       "      <td>...</td>\n",
       "      <td>NaN</td>\n",
       "      <td>NaN</td>\n",
       "      <td>NaN</td>\n",
       "      <td>NaN</td>\n",
       "      <td>NaN</td>\n",
       "      <td>NaN</td>\n",
       "      <td>NaN</td>\n",
       "      <td>NaN</td>\n",
       "      <td>NaN</td>\n",
       "      <td>NaN</td>\n",
       "    </tr>\n",
       "    <tr>\n",
       "      <th>4</th>\n",
       "      <td>2015-01-01</td>\n",
       "      <td>PL1321LAG34XWH</td>\n",
       "      <td>Hitachi HDS5C4040ALE630</td>\n",
       "      <td>4000787030016</td>\n",
       "      <td>0</td>\n",
       "      <td>100</td>\n",
       "      <td>0</td>\n",
       "      <td>134</td>\n",
       "      <td>101</td>\n",
       "      <td>131</td>\n",
       "      <td>...</td>\n",
       "      <td>NaN</td>\n",
       "      <td>NaN</td>\n",
       "      <td>NaN</td>\n",
       "      <td>NaN</td>\n",
       "      <td>NaN</td>\n",
       "      <td>NaN</td>\n",
       "      <td>NaN</td>\n",
       "      <td>NaN</td>\n",
       "      <td>NaN</td>\n",
       "      <td>NaN</td>\n",
       "    </tr>\n",
       "  </tbody>\n",
       "</table>\n",
       "<p>5 rows × 95 columns</p>\n",
       "</div>"
      ],
      "text/plain": [
       "         date   serial_number                    model  capacity_bytes  \\\n",
       "0  2015-01-01  MJ0351YNG9Z0XA  Hitachi HDS5C3030ALA630   3000592982016   \n",
       "1  2015-01-01  MJ0351YNG9WJSA  Hitachi HDS5C3030ALA630   3000592982016   \n",
       "2  2015-01-01  MJ0351YNG9Z7LA  Hitachi HDS5C3030ALA630   3000592982016   \n",
       "3  2015-01-01  MJ0351YNGABYAA  Hitachi HDS5C3030ALA630   3000592982016   \n",
       "4  2015-01-01  PL1321LAG34XWH  Hitachi HDS5C4040ALE630   4000787030016   \n",
       "\n",
       "   failure  smart_1_normalized  smart_1_raw  smart_2_normalized  smart_2_raw  \\\n",
       "0        0                 100            0                 135          108   \n",
       "1        0                 100            0                 136          104   \n",
       "2        0                 100            0                 136          104   \n",
       "3        0                 100            0                 136          104   \n",
       "4        0                 100            0                 134          101   \n",
       "\n",
       "   smart_3_normalized      ...        smart_250_normalized  smart_250_raw  \\\n",
       "0                 143      ...                         NaN            NaN   \n",
       "1                 127      ...                         NaN            NaN   \n",
       "2                 124      ...                         NaN            NaN   \n",
       "3                 137      ...                         NaN            NaN   \n",
       "4                 131      ...                         NaN            NaN   \n",
       "\n",
       "   smart_251_normalized  smart_251_raw  smart_252_normalized  smart_252_raw  \\\n",
       "0                   NaN            NaN                   NaN            NaN   \n",
       "1                   NaN            NaN                   NaN            NaN   \n",
       "2                   NaN            NaN                   NaN            NaN   \n",
       "3                   NaN            NaN                   NaN            NaN   \n",
       "4                   NaN            NaN                   NaN            NaN   \n",
       "\n",
       "   smart_254_normalized  smart_254_raw  smart_255_normalized  smart_255_raw  \n",
       "0                   NaN            NaN                   NaN            NaN  \n",
       "1                   NaN            NaN                   NaN            NaN  \n",
       "2                   NaN            NaN                   NaN            NaN  \n",
       "3                   NaN            NaN                   NaN            NaN  \n",
       "4                   NaN            NaN                   NaN            NaN  \n",
       "\n",
       "[5 rows x 95 columns]"
      ]
     },
     "execution_count": 4,
     "metadata": {},
     "output_type": "execute_result"
    }
   ],
   "source": [
    "sample = pd.read_csv(\"data/2015-01-01.csv\")\n",
    "\n",
    "print(\"Size of sample: {}\".format(len(sample)))\n",
    "print(\"Number of features: {}\".format(len(sample.columns)))\n",
    "\n",
    "sample.head()"
   ]
  },
  {
   "cell_type": "markdown",
   "metadata": {},
   "source": [
    "### Simple statistics for numeric features of sample:"
   ]
  },
  {
   "cell_type": "code",
   "execution_count": 5,
   "metadata": {
    "collapsed": false,
    "scrolled": true
   },
   "outputs": [
    {
     "data": {
      "text/html": [
       "<div>\n",
       "<table border=\"1\" class=\"dataframe\">\n",
       "  <thead>\n",
       "    <tr style=\"text-align: right;\">\n",
       "      <th></th>\n",
       "      <th>capacity_bytes</th>\n",
       "      <th>failure</th>\n",
       "      <th>smart_1_normalized</th>\n",
       "      <th>smart_1_raw</th>\n",
       "      <th>smart_2_normalized</th>\n",
       "      <th>smart_2_raw</th>\n",
       "      <th>smart_3_normalized</th>\n",
       "      <th>smart_3_raw</th>\n",
       "      <th>smart_4_normalized</th>\n",
       "      <th>smart_4_raw</th>\n",
       "      <th>...</th>\n",
       "      <th>smart_250_normalized</th>\n",
       "      <th>smart_250_raw</th>\n",
       "      <th>smart_251_normalized</th>\n",
       "      <th>smart_251_raw</th>\n",
       "      <th>smart_252_normalized</th>\n",
       "      <th>smart_252_raw</th>\n",
       "      <th>smart_254_normalized</th>\n",
       "      <th>smart_254_raw</th>\n",
       "      <th>smart_255_normalized</th>\n",
       "      <th>smart_255_raw</th>\n",
       "    </tr>\n",
       "  </thead>\n",
       "  <tbody>\n",
       "    <tr>\n",
       "      <th>count</th>\n",
       "      <td>4.121200e+04</td>\n",
       "      <td>41212.000000</td>\n",
       "      <td>41212.000000</td>\n",
       "      <td>4.121200e+04</td>\n",
       "      <td>23227.000000</td>\n",
       "      <td>23227.000000</td>\n",
       "      <td>41212.000000</td>\n",
       "      <td>41212.000000</td>\n",
       "      <td>41212.000000</td>\n",
       "      <td>41212.000000</td>\n",
       "      <td>...</td>\n",
       "      <td>89</td>\n",
       "      <td>89.000000</td>\n",
       "      <td>89</td>\n",
       "      <td>8.900000e+01</td>\n",
       "      <td>89</td>\n",
       "      <td>89.00000</td>\n",
       "      <td>200.000000</td>\n",
       "      <td>200</td>\n",
       "      <td>0</td>\n",
       "      <td>0</td>\n",
       "    </tr>\n",
       "    <tr>\n",
       "      <th>mean</th>\n",
       "      <td>3.369229e+12</td>\n",
       "      <td>0.000024</td>\n",
       "      <td>110.790886</td>\n",
       "      <td>4.728882e+07</td>\n",
       "      <td>126.286391</td>\n",
       "      <td>74.627546</td>\n",
       "      <td>109.719378</td>\n",
       "      <td>451.512084</td>\n",
       "      <td>99.996093</td>\n",
       "      <td>20.964137</td>\n",
       "      <td>...</td>\n",
       "      <td>1</td>\n",
       "      <td>42364427.528090</td>\n",
       "      <td>1</td>\n",
       "      <td>8.668938e+07</td>\n",
       "      <td>1</td>\n",
       "      <td>38825999.11236</td>\n",
       "      <td>112.500000</td>\n",
       "      <td>0</td>\n",
       "      <td>NaN</td>\n",
       "      <td>NaN</td>\n",
       "    </tr>\n",
       "    <tr>\n",
       "      <th>std</th>\n",
       "      <td>9.771285e+11</td>\n",
       "      <td>0.004926</td>\n",
       "      <td>21.902900</td>\n",
       "      <td>7.547699e+07</td>\n",
       "      <td>19.158710</td>\n",
       "      <td>45.420129</td>\n",
       "      <td>21.162439</td>\n",
       "      <td>1104.537090</td>\n",
       "      <td>0.256074</td>\n",
       "      <td>266.393531</td>\n",
       "      <td>...</td>\n",
       "      <td>0</td>\n",
       "      <td>20016767.954468</td>\n",
       "      <td>0</td>\n",
       "      <td>4.087138e+07</td>\n",
       "      <td>0</td>\n",
       "      <td>18349638.81479</td>\n",
       "      <td>33.154882</td>\n",
       "      <td>0</td>\n",
       "      <td>NaN</td>\n",
       "      <td>NaN</td>\n",
       "    </tr>\n",
       "    <tr>\n",
       "      <th>min</th>\n",
       "      <td>8.002636e+10</td>\n",
       "      <td>0.000000</td>\n",
       "      <td>40.000000</td>\n",
       "      <td>0.000000e+00</td>\n",
       "      <td>100.000000</td>\n",
       "      <td>0.000000</td>\n",
       "      <td>71.000000</td>\n",
       "      <td>0.000000</td>\n",
       "      <td>73.000000</td>\n",
       "      <td>1.000000</td>\n",
       "      <td>...</td>\n",
       "      <td>1</td>\n",
       "      <td>17340.000000</td>\n",
       "      <td>1</td>\n",
       "      <td>3.466600e+04</td>\n",
       "      <td>1</td>\n",
       "      <td>15671.00000</td>\n",
       "      <td>100.000000</td>\n",
       "      <td>0</td>\n",
       "      <td>NaN</td>\n",
       "      <td>NaN</td>\n",
       "    </tr>\n",
       "    <tr>\n",
       "      <th>25%</th>\n",
       "      <td>3.000593e+12</td>\n",
       "      <td>0.000000</td>\n",
       "      <td>100.000000</td>\n",
       "      <td>0.000000e+00</td>\n",
       "      <td>100.000000</td>\n",
       "      <td>0.000000</td>\n",
       "      <td>95.000000</td>\n",
       "      <td>0.000000</td>\n",
       "      <td>100.000000</td>\n",
       "      <td>5.000000</td>\n",
       "      <td>...</td>\n",
       "      <td>1</td>\n",
       "      <td>29497370.000000</td>\n",
       "      <td>1</td>\n",
       "      <td>6.067892e+07</td>\n",
       "      <td>1</td>\n",
       "      <td>26928768.00000</td>\n",
       "      <td>100.000000</td>\n",
       "      <td>0</td>\n",
       "      <td>NaN</td>\n",
       "      <td>NaN</td>\n",
       "    </tr>\n",
       "    <tr>\n",
       "      <th>50%</th>\n",
       "      <td>4.000787e+12</td>\n",
       "      <td>0.000000</td>\n",
       "      <td>100.000000</td>\n",
       "      <td>0.000000e+00</td>\n",
       "      <td>134.000000</td>\n",
       "      <td>100.000000</td>\n",
       "      <td>100.000000</td>\n",
       "      <td>0.000000</td>\n",
       "      <td>100.000000</td>\n",
       "      <td>12.000000</td>\n",
       "      <td>...</td>\n",
       "      <td>1</td>\n",
       "      <td>51957480.000000</td>\n",
       "      <td>1</td>\n",
       "      <td>1.084168e+08</td>\n",
       "      <td>1</td>\n",
       "      <td>48341602.00000</td>\n",
       "      <td>100.000000</td>\n",
       "      <td>0</td>\n",
       "      <td>NaN</td>\n",
       "      <td>NaN</td>\n",
       "    </tr>\n",
       "    <tr>\n",
       "      <th>75%</th>\n",
       "      <td>4.000787e+12</td>\n",
       "      <td>0.000000</td>\n",
       "      <td>117.000000</td>\n",
       "      <td>8.593824e+07</td>\n",
       "      <td>134.000000</td>\n",
       "      <td>104.000000</td>\n",
       "      <td>123.000000</td>\n",
       "      <td>561.000000</td>\n",
       "      <td>100.000000</td>\n",
       "      <td>20.000000</td>\n",
       "      <td>...</td>\n",
       "      <td>1</td>\n",
       "      <td>57483934.000000</td>\n",
       "      <td>1</td>\n",
       "      <td>1.167961e+08</td>\n",
       "      <td>1</td>\n",
       "      <td>52418581.00000</td>\n",
       "      <td>100.000000</td>\n",
       "      <td>0</td>\n",
       "      <td>NaN</td>\n",
       "      <td>NaN</td>\n",
       "    </tr>\n",
       "    <tr>\n",
       "      <th>max</th>\n",
       "      <td>6.001175e+12</td>\n",
       "      <td>1.000000</td>\n",
       "      <td>200.000000</td>\n",
       "      <td>2.031635e+09</td>\n",
       "      <td>252.000000</td>\n",
       "      <td>196.000000</td>\n",
       "      <td>253.000000</td>\n",
       "      <td>9590.000000</td>\n",
       "      <td>100.000000</td>\n",
       "      <td>27837.000000</td>\n",
       "      <td>...</td>\n",
       "      <td>1</td>\n",
       "      <td>63566597.000000</td>\n",
       "      <td>1</td>\n",
       "      <td>1.276065e+08</td>\n",
       "      <td>1</td>\n",
       "      <td>58373641.00000</td>\n",
       "      <td>200.000000</td>\n",
       "      <td>0</td>\n",
       "      <td>NaN</td>\n",
       "      <td>NaN</td>\n",
       "    </tr>\n",
       "  </tbody>\n",
       "</table>\n",
       "<p>8 rows × 92 columns</p>\n",
       "</div>"
      ],
      "text/plain": [
       "       capacity_bytes       failure  smart_1_normalized   smart_1_raw  \\\n",
       "count    4.121200e+04  41212.000000        41212.000000  4.121200e+04   \n",
       "mean     3.369229e+12      0.000024          110.790886  4.728882e+07   \n",
       "std      9.771285e+11      0.004926           21.902900  7.547699e+07   \n",
       "min      8.002636e+10      0.000000           40.000000  0.000000e+00   \n",
       "25%      3.000593e+12      0.000000          100.000000  0.000000e+00   \n",
       "50%      4.000787e+12      0.000000          100.000000  0.000000e+00   \n",
       "75%      4.000787e+12      0.000000          117.000000  8.593824e+07   \n",
       "max      6.001175e+12      1.000000          200.000000  2.031635e+09   \n",
       "\n",
       "       smart_2_normalized   smart_2_raw  smart_3_normalized   smart_3_raw  \\\n",
       "count        23227.000000  23227.000000        41212.000000  41212.000000   \n",
       "mean           126.286391     74.627546          109.719378    451.512084   \n",
       "std             19.158710     45.420129           21.162439   1104.537090   \n",
       "min            100.000000      0.000000           71.000000      0.000000   \n",
       "25%            100.000000      0.000000           95.000000      0.000000   \n",
       "50%            134.000000    100.000000          100.000000      0.000000   \n",
       "75%            134.000000    104.000000          123.000000    561.000000   \n",
       "max            252.000000    196.000000          253.000000   9590.000000   \n",
       "\n",
       "       smart_4_normalized   smart_4_raw      ...        smart_250_normalized  \\\n",
       "count        41212.000000  41212.000000      ...                          89   \n",
       "mean            99.996093     20.964137      ...                           1   \n",
       "std              0.256074    266.393531      ...                           0   \n",
       "min             73.000000      1.000000      ...                           1   \n",
       "25%            100.000000      5.000000      ...                           1   \n",
       "50%            100.000000     12.000000      ...                           1   \n",
       "75%            100.000000     20.000000      ...                           1   \n",
       "max            100.000000  27837.000000      ...                           1   \n",
       "\n",
       "         smart_250_raw  smart_251_normalized  smart_251_raw  \\\n",
       "count        89.000000                    89   8.900000e+01   \n",
       "mean   42364427.528090                     1   8.668938e+07   \n",
       "std    20016767.954468                     0   4.087138e+07   \n",
       "min       17340.000000                     1   3.466600e+04   \n",
       "25%    29497370.000000                     1   6.067892e+07   \n",
       "50%    51957480.000000                     1   1.084168e+08   \n",
       "75%    57483934.000000                     1   1.167961e+08   \n",
       "max    63566597.000000                     1   1.276065e+08   \n",
       "\n",
       "       smart_252_normalized   smart_252_raw  smart_254_normalized  \\\n",
       "count                    89        89.00000            200.000000   \n",
       "mean                      1  38825999.11236            112.500000   \n",
       "std                       0  18349638.81479             33.154882   \n",
       "min                       1     15671.00000            100.000000   \n",
       "25%                       1  26928768.00000            100.000000   \n",
       "50%                       1  48341602.00000            100.000000   \n",
       "75%                       1  52418581.00000            100.000000   \n",
       "max                       1  58373641.00000            200.000000   \n",
       "\n",
       "       smart_254_raw  smart_255_normalized  smart_255_raw  \n",
       "count            200                     0              0  \n",
       "mean               0                   NaN            NaN  \n",
       "std                0                   NaN            NaN  \n",
       "min                0                   NaN            NaN  \n",
       "25%                0                   NaN            NaN  \n",
       "50%                0                   NaN            NaN  \n",
       "75%                0                   NaN            NaN  \n",
       "max                0                   NaN            NaN  \n",
       "\n",
       "[8 rows x 92 columns]"
      ]
     },
     "execution_count": 5,
     "metadata": {},
     "output_type": "execute_result"
    }
   ],
   "source": [
    "sample.describe()"
   ]
  },
  {
   "cell_type": "markdown",
   "metadata": {},
   "source": [
    "#### Motivation to choose this dataset:\n",
    "- Real-world example of important non-deterministic process\n",
    "- Broad field for application of classic data analysis methods: clustering, time-series analysis, classification\n",
    "- Possible practical applications. E.g predict disk failures and avoid data loss"
   ]
  },
  {
   "cell_type": "markdown",
   "metadata": {
    "collapsed": true
   },
   "source": [
    "---\n",
    "## Homework 2: Bootstrap"
   ]
  },
  {
   "cell_type": "code",
   "execution_count": 6,
   "metadata": {
    "collapsed": false,
    "scrolled": true
   },
   "outputs": [
    {
     "data": {
      "text/html": [
       "<div>\n",
       "<table border=\"1\" class=\"dataframe\">\n",
       "  <thead>\n",
       "    <tr style=\"text-align: right;\">\n",
       "      <th></th>\n",
       "      <th>model</th>\n",
       "      <th>capacity_bytes</th>\n",
       "    </tr>\n",
       "  </thead>\n",
       "  <tbody>\n",
       "    <tr>\n",
       "      <th>0</th>\n",
       "      <td>Hitachi HDS5C3030ALA630</td>\n",
       "      <td>3000592982016</td>\n",
       "    </tr>\n",
       "    <tr>\n",
       "      <th>1</th>\n",
       "      <td>Hitachi HDS5C3030ALA630</td>\n",
       "      <td>3000592982016</td>\n",
       "    </tr>\n",
       "    <tr>\n",
       "      <th>2</th>\n",
       "      <td>Hitachi HDS5C3030ALA630</td>\n",
       "      <td>3000592982016</td>\n",
       "    </tr>\n",
       "    <tr>\n",
       "      <th>3</th>\n",
       "      <td>Hitachi HDS5C3030ALA630</td>\n",
       "      <td>3000592982016</td>\n",
       "    </tr>\n",
       "    <tr>\n",
       "      <th>4</th>\n",
       "      <td>Hitachi HDS5C4040ALE630</td>\n",
       "      <td>4000787030016</td>\n",
       "    </tr>\n",
       "  </tbody>\n",
       "</table>\n",
       "</div>"
      ],
      "text/plain": [
       "                     model  capacity_bytes\n",
       "0  Hitachi HDS5C3030ALA630   3000592982016\n",
       "1  Hitachi HDS5C3030ALA630   3000592982016\n",
       "2  Hitachi HDS5C3030ALA630   3000592982016\n",
       "3  Hitachi HDS5C3030ALA630   3000592982016\n",
       "4  Hitachi HDS5C4040ALE630   4000787030016"
      ]
     },
     "execution_count": 6,
     "metadata": {},
     "output_type": "execute_result"
    }
   ],
   "source": [
    "columns_working_set = [\n",
    "    \"model\", \"capacity_bytes\",\n",
    "]\n",
    "\n",
    "data = sample[columns_working_set].copy()\n",
    "data.head()"
   ]
  },
  {
   "cell_type": "markdown",
   "metadata": {},
   "source": [
    "### Convert bytes gigabytes"
   ]
  },
  {
   "cell_type": "code",
   "execution_count": 7,
   "metadata": {
    "collapsed": false,
    "scrolled": true
   },
   "outputs": [],
   "source": [
    "data['capacity_gb'] = data['capacity_bytes'] // 2**30"
   ]
  },
  {
   "cell_type": "markdown",
   "metadata": {},
   "source": [
    "### Compute median, mean and mode of capacity"
   ]
  },
  {
   "cell_type": "code",
   "execution_count": 8,
   "metadata": {
    "collapsed": false,
    "scrolled": true
   },
   "outputs": [
    {
     "name": "stdout",
     "output_type": "stream",
     "text": [
      "Median capacity: 3726.0\n",
      "Mean capacity:   3137.6939241\n",
      "Mode capacity:   3726\n"
     ]
    }
   ],
   "source": [
    "median_capacity = data['capacity_gb'].median()\n",
    "mean_capacity = data['capacity_gb'].mean()\n",
    "mode_capacity = data['capacity_gb'].mode()[0]\n",
    "\n",
    "print('Median capacity:', median_capacity)\n",
    "print('Mean capacity:  ', mean_capacity)\n",
    "print('Mode capacity:  ', mode_capacity)"
   ]
  },
  {
   "cell_type": "markdown",
   "metadata": {},
   "source": [
    "### Plot capacity histogram"
   ]
  },
  {
   "cell_type": "code",
   "execution_count": 9,
   "metadata": {
    "collapsed": false,
    "scrolled": true
   },
   "outputs": [
    {
     "data": {
      "text/plain": [
       "<matplotlib.axes._subplots.AxesSubplot at 0x112bb0b38>"
      ]
     },
     "execution_count": 9,
     "metadata": {},
     "output_type": "execute_result"
    },
    {
     "data": {
      "image/png": "[encoded data removed]",
      "text/plain": [
       "<matplotlib.figure.Figure at 0x112b80588>"
      ]
     },
     "metadata": {},
     "output_type": "display_data"
    }
   ],
   "source": [
    "data[\"capacity_gb\"].hist()"
   ]
  },
  {
   "cell_type": "markdown",
   "metadata": {},
   "source": [
    "### Plot boxplot of capacity"
   ]
  },
  {
   "cell_type": "code",
   "execution_count": 10,
   "metadata": {
    "collapsed": false,
    "scrolled": true
   },
   "outputs": [
    {
     "data": {
      "text/plain": [
       "<matplotlib.axes._subplots.AxesSubplot at 0x116073c50>"
      ]
     },
     "execution_count": 10,
     "metadata": {},
     "output_type": "execute_result"
    },
    {
     "data": {
      "image/png": "[encoded data removed]",
      "text/plain": [
       "<matplotlib.figure.Figure at 0x1160ab518>"
      ]
     },
     "metadata": {},
     "output_type": "display_data"
    }
   ],
   "source": [
    "data.boxplot(column=\"capacity_gb\", return_type=\"axes\")"
   ]
  },
  {
   "cell_type": "markdown",
   "metadata": {},
   "source": [
    "Медиана и мода признака capacity совпадают, так как из `41212` наблюдений `25000`, т.е. более половины, имеют одно и то же значение (чуть более `3,73` гб). Среднее значение меньше медианы и моды (`3,14` гб). На гистограмме признака capacity хорошо видно, что распределение объемов жестких дисков в данном наборе данных достаточно далеко от нормального (и скорее похоже на смесь нормальных) в результате чего наблюдается такая большая разница между средним значением и медианой."
   ]
  },
  {
   "cell_type": "markdown",
   "metadata": {},
   "source": [
    "### Теперь построим доверительные интервалы для среднего значения воспользовавшись:\n",
    "- статистическим методом\n",
    "- техникой опорного бутстрэпа\n",
    "- техникой безопорного бутстрэпа"
   ]
  },
  {
   "cell_type": "code",
   "execution_count": 11,
   "metadata": {
    "collapsed": false,
    "scrolled": true
   },
   "outputs": [
    {
     "name": "stdout",
     "output_type": "stream",
     "text": [
      "1.95996398454\n"
     ]
    }
   ],
   "source": [
    "import scipy.stats\n",
    "confidence = 0.95\n",
    "z_confidence = scipy.stats.norm.ppf((1 + confidence) / 2)\n",
    "print(z_confidence)"
   ]
  },
  {
   "cell_type": "markdown",
   "metadata": {},
   "source": [
    "### Statistical method"
   ]
  },
  {
   "cell_type": "code",
   "execution_count": 12,
   "metadata": {
    "collapsed": false,
    "scrolled": true
   },
   "outputs": [
    {
     "name": "stdout",
     "output_type": "stream",
     "text": [
      "Statistical method confidence interval: (3128.9070132049078, 3146.4808349946456)\n"
     ]
    }
   ],
   "source": [
    "mean = data[\"capacity_gb\"].mean()\n",
    "std = data[\"capacity_gb\"].std()\n",
    "N = sqrt(len(data[\"capacity_gb\"]))\n",
    "\n",
    "delta = z_confidence * std / N\n",
    "stat_interval = (mean - delta, mean + delta)\n",
    "\n",
    "print(\"Statistical method confidence interval:\", stat_interval)"
   ]
  },
  {
   "cell_type": "code",
   "execution_count": 13,
   "metadata": {
    "collapsed": true,
    "scrolled": true
   },
   "outputs": [],
   "source": [
    "def bootstrapSampling(values, sample_size):\n",
    "    \"\"\"\n",
    "    Create bootstrap sample of size @sample_size\n",
    "    \"\"\"\n",
    "    return values[np.random.randint(len(values), size=sample_size)]"
   ]
  },
  {
   "cell_type": "markdown",
   "metadata": {},
   "source": [
    "### Plot mean values histogram for 5000 subsamples of size 2000"
   ]
  },
  {
   "cell_type": "code",
   "execution_count": 14,
   "metadata": {
    "collapsed": false,
    "scrolled": true
   },
   "outputs": [
    {
     "data": {
      "text/plain": [
       "<matplotlib.axes._subplots.AxesSubplot at 0x1160736d8>"
      ]
     },
     "execution_count": 14,
     "metadata": {},
     "output_type": "execute_result"
    },
    {
     "data": {
      "image/png": "[encoded data removed]",
      "text/plain": [
       "<matplotlib.figure.Figure at 0x116326710>"
      ]
     },
     "metadata": {},
     "output_type": "display_data"
    }
   ],
   "source": [
    "sample_count = 5000\n",
    "sample_size = 2000\n",
    "\n",
    "capacities = data[\"capacity_gb\"].values\n",
    "\n",
    "means = np.array([\n",
    "    bootstrapSampling(capacities, sample_size).mean() for i in range(sample_count)\n",
    "])\n",
    "\n",
    "sns.distplot(means)"
   ]
  },
  {
   "cell_type": "markdown",
   "metadata": {},
   "source": [
    "### Pivotal boostrap"
   ]
  },
  {
   "cell_type": "code",
   "execution_count": 15,
   "metadata": {
    "collapsed": false,
    "scrolled": true
   },
   "outputs": [
    {
     "name": "stdout",
     "output_type": "stream",
     "text": [
      "Pivotal bootstrap method confidence interval: (3137.6238182085654, 3138.7587689914344)\n"
     ]
    }
   ],
   "source": [
    "mean = means.mean()\n",
    "std = means.std()\n",
    "N = sqrt(len(means))\n",
    "\n",
    "delta = z_confidence * std / N\n",
    "pivotal_bootstrap_interval = (mean - delta, mean + delta)\n",
    "\n",
    "print(\"Pivotal bootstrap method confidence interval:\", pivotal_bootstrap_interval)"
   ]
  },
  {
   "cell_type": "markdown",
   "metadata": {},
   "source": [
    "### Non-pivotal bootstrap"
   ]
  },
  {
   "cell_type": "code",
   "execution_count": 16,
   "metadata": {
    "collapsed": false,
    "scrolled": true
   },
   "outputs": [
    {
     "name": "stdout",
     "output_type": "stream",
     "text": [
      "Non-pivotal bootstrap method confidence interval: (3098.607, 3177.9409999999998)\n"
     ]
    }
   ],
   "source": [
    "means.sort()\n",
    "delta = int((1 - confidence) / 2 * len(means))\n",
    "\n",
    "non_pivotal_bootstrap_interval = (means[delta], means[len(means) - delta])\n",
    "\n",
    "print(\"Non-pivotal bootstrap method confidence interval:\", non_pivotal_bootstrap_interval)"
   ]
  },
  {
   "cell_type": "markdown",
   "metadata": {},
   "source": [
    "Ниже приведены доверительные интервалы для среднего значения признака capacity, полученные\n",
    "статистическим методом, опорным и безопорным бутстрэпом соответственно:\n",
    "\n",
    "- (3128.907, 3146.480)\n",
    "- (3137.623, 3138.758)\n",
    "- (3098.607, 3177.940)\n",
    "\n",
    "учитывая, что среднее значение нашей признака равно 3137.693, можно утверждать что лучший результат дает техника опорного бутстрэпа. А значит, скорость сходимости выборочного среднего объемов жестких дисков к нормальному распределению с ростом размера семпла в данном наборе данных достаточно высокая."
   ]
  },
  {
   "cell_type": "markdown",
   "metadata": {},
   "source": [
    "## Mode"
   ]
  },
  {
   "cell_type": "markdown",
   "metadata": {},
   "source": [
    " Построение доверительного интервала для моды признака capacity кажется странным, т.к. мода это значение признака которое встречается в наборе данных чаще всего. Учитывая распределение признака даже при небольшом объеме подвыборки мода сохраняет свое значение, приведем пример."
   ]
  },
  {
   "cell_type": "markdown",
   "metadata": {},
   "source": [
    "### Sample 500 items out of 40000+ and compare mode values"
   ]
  },
  {
   "cell_type": "code",
   "execution_count": 17,
   "metadata": {
    "collapsed": false,
    "scrolled": true
   },
   "outputs": [
    {
     "name": "stdout",
     "output_type": "stream",
     "text": [
      "Overall mode: 3726, Mode frequency: 25019.0\n",
      "Sample mode: 3726, Mode frequency: 291.0\n"
     ]
    }
   ],
   "source": [
    "sample = bootstrapSampling(capacities, 500)\n",
    "\n",
    "overall_mode = scipy.stats.mode(capacities)\n",
    "print(\"Overall mode: {}, Mode frequency: {}\".format(overall_mode[0][0], overall_mode[1][0]))\n",
    "\n",
    "sample_mode = scipy.stats.mode(sample)\n",
    "print(\"Sample mode: {}, Mode frequency: {}\".format(sample_mode[0][0], sample_mode[1][0]))"
   ]
  },
  {
   "cell_type": "markdown",
   "metadata": {},
   "source": [
    "С другой стороны если вспомнить о том что мода это бин гистограммы на котором достигается максимальное значение,\n",
    "то возможно под доверительным интервалом можно понимать границы бина, но это не очень понятно, потому что в таком случае изменив размеры бина мы изменим и доверительный интервал для моды. В любом случае в нашем наборе данных многократный ресамплинг сохраняет моду и не дает для нее значений отличных от моды изначальных данных"
   ]
  },
  {
   "cell_type": "markdown",
   "metadata": {},
   "source": [
    "## Median"
   ]
  },
  {
   "cell_type": "markdown",
   "metadata": {},
   "source": [
    "Произведем бутстрэп, посчитаем медианы для каждой подвыборки и построим гистограмму полученных медиан\n"
   ]
  },
  {
   "cell_type": "code",
   "execution_count": 19,
   "metadata": {
    "collapsed": false,
    "scrolled": true
   },
   "outputs": [
    {
     "data": {
      "text/plain": [
       "<matplotlib.axes._subplots.AxesSubplot at 0x114bf9c88>"
      ]
     },
     "execution_count": 19,
     "metadata": {},
     "output_type": "execute_result"
    },
    {
     "data": {
      "image/png": "[encoded data removed]",
      "text/plain": [
       "<matplotlib.figure.Figure at 0x10fa6ee80>"
      ]
     },
     "metadata": {},
     "output_type": "display_data"
    }
   ],
   "source": [
    "sample_count = 500\n",
    "sample_size = 200\n",
    "\n",
    "medians = np.array([\n",
    "    np.median(bootstrapSampling(capacities, sample_size)) for i in range(sample_count)\n",
    "])\n",
    "\n",
    "sns.distplot(medians, kde=False)"
   ]
  },
  {
   "cell_type": "code",
   "execution_count": 20,
   "metadata": {
    "collapsed": false,
    "scrolled": true
   },
   "outputs": [
    {
     "name": "stdout",
     "output_type": "stream",
     "text": [
      "Medians mean: 3726.0\n",
      "Medians std: 0.0\n"
     ]
    }
   ],
   "source": [
    "print('Medians mean:', medians.mean())\n",
    "print('Medians std:', medians.std())"
   ]
  },
  {
   "cell_type": "markdown",
   "metadata": {},
   "source": [
    "Как видно, среднее значение медиан для опорного и безопорного бутстрэпа \n",
    "совпадает с медианой начального распределения, так как все 500 значений равны (среднеквадратичное отклонение = 0).\n",
    "    "
   ]
  },
  {
   "cell_type": "markdown",
   "metadata": {},
   "source": [
    "### Split dataset into parts by disk vendor"
   ]
  },
  {
   "cell_type": "markdown",
   "metadata": {},
   "source": [
    "### Group drives by vendor"
   ]
  },
  {
   "cell_type": "code",
   "execution_count": 21,
   "metadata": {
    "collapsed": false,
    "scrolled": true
   },
   "outputs": [],
   "source": [
    "def extract_vendor(model):\n",
    "    if model.startswith(\"Hitachi\"):\n",
    "        return \"Hitachi\"\n",
    "    \n",
    "    if model.startswith(\"ST\"):\n",
    "        return \"Seagate\"\n",
    "    \n",
    "    if model.startswith(\"HGST\"):\n",
    "        return \"HGST\"\n",
    "    \n",
    "    return \"Others\"\n",
    "\n",
    "data[\"vendor\"] = data[\"model\"].map(extract_vendor)"
   ]
  },
  {
   "cell_type": "markdown",
   "metadata": {},
   "source": [
    "### Plot capacity boxplot for different vendors"
   ]
  },
  {
   "cell_type": "code",
   "execution_count": 22,
   "metadata": {
    "collapsed": false,
    "scrolled": true
   },
   "outputs": [
    {
     "data": {
      "text/plain": [
       "<matplotlib.axes._subplots.AxesSubplot at 0x11023ba58>"
      ]
     },
     "execution_count": 22,
     "metadata": {},
     "output_type": "execute_result"
    },
    {
     "data": {
      "image/png": "[encoded data removed]",
      "text/plain": [
       "<matplotlib.figure.Figure at 0x11304ab00>"
      ]
     },
     "metadata": {},
     "output_type": "display_data"
    }
   ],
   "source": [
    "data.boxplot(column=\"capacity_gb\", by=\"vendor\")"
   ]
  },
  {
   "cell_type": "markdown",
   "metadata": {},
   "source": [
    "По боксплоту видно, что для разных производителей размеры дисков различаются."
   ]
  },
  {
   "cell_type": "code",
   "execution_count": 23,
   "metadata": {
    "collapsed": false,
    "scrolled": true
   },
   "outputs": [
    {
     "data": {
      "image/png": "[encoded data removed]",
      "text/plain": [
       "<matplotlib.figure.Figure at 0x112bdac88>"
      ]
     },
     "metadata": {},
     "output_type": "display_data"
    }
   ],
   "source": [
    "h_axis = data.hist(column=\"capacity_gb\", by=\"vendor\")"
   ]
  },
  {
   "cell_type": "code",
   "execution_count": 24,
   "metadata": {
    "collapsed": true,
    "scrolled": true
   },
   "outputs": [],
   "source": [
    "def computePivotalBootstrapConfidenceInterval(data):\n",
    "    sample_count = 1000\n",
    "    sample_size = len(data) // 2\n",
    "    \n",
    "    capacities = data[\"capacity_gb\"].values\n",
    "\n",
    "    means = np.array([\n",
    "        bootstrapSampling(capacities, sample_size).mean() for i in range(sample_count)\n",
    "    ])\n",
    "    \n",
    "    mean = means.mean()\n",
    "    std = means.std()\n",
    "    N = sqrt(len(means))\n",
    "\n",
    "    delta = z_confidence * std / N\n",
    "    pivotal_bootstrap_interval = (mean - delta, mean + delta)\n",
    "\n",
    "    return pivotal_bootstrap_interval\n",
    "\n",
    "def computeNonPivotalBootstrapConfidenceInterval(data):\n",
    "    sample_count = 1000\n",
    "    sample_size = len(data) // 2\n",
    "    \n",
    "    capacities = data[\"capacity_gb\"].values\n",
    "\n",
    "    means = np.array([\n",
    "        bootstrapSampling(capacities, sample_size).mean() for i in range(sample_count)\n",
    "    ])\n",
    "    \n",
    "    means.sort()\n",
    "    delta = int((1 - confidence) / 2 * len(means))\n",
    "\n",
    "    non_pivotal_bootstrap_interval = (means[delta], means[len(means) - delta])\n",
    "\n",
    "    return non_pivotal_bootstrap_interval"
   ]
  },
  {
   "cell_type": "code",
   "execution_count": 25,
   "metadata": {
    "collapsed": false,
    "scrolled": true
   },
   "outputs": [
    {
     "name": "stdout",
     "output_type": "stream",
     "text": [
      "Number of Hitachi drives: 12870\n",
      "(2644.9936034583275, 2646.042949455426)\n",
      "(2629.4052836052838, 2662.1170163170164)\n",
      "Number of Seagate drives: 16132\n",
      "(3273.1979053052773, 3274.5371628821758)\n",
      "(3255.0675675675675, 3294.8905281428215)\n"
     ]
    }
   ],
   "source": [
    "for vendor in [\"Hitachi\", \"Seagate\"]:\n",
    "    vendor_drives = data[data[\"vendor\"] == vendor]\n",
    "    vendor_pivotal_interval = computePivotalBootstrapConfidenceInterval(vendor_drives)\n",
    "    vendor_non_pivotal_interval = computeNonPivotalBootstrapConfidenceInterval(vendor_drives)\n",
    "\n",
    "    print(\"Number of {} drives: {}\".format(vendor, len(vendor_drives)))\n",
    "    print(vendor_pivotal_interval)\n",
    "    print(vendor_non_pivotal_interval)"
   ]
  },
  {
   "cell_type": "markdown",
   "metadata": {},
   "source": [
    "#### Доверительные интервалы размеров дисков для этих двух подмножеств датасета даже не пересекаются. На основании этого можно говорить о содержательном различии между средними значениями этого признака для этих подмножеств"
   ]
  }
 ],
 "metadata": {
  "kernelspec": {
   "display_name": "Python 3",
   "language": "python",
   "name": "python3"
  },
  "language_info": {
   "codemirror_mode": {
    "name": "ipython",
    "version": 3
   },
   "file_extension": ".py",
   "mimetype": "text/x-python",
   "name": "python",
   "nbconvert_exporter": "python",
   "pygments_lexer": "ipython3",
   "version": "3.4.3"
  }
 },
 "nbformat": 4,
 "nbformat_minor": 0
}
